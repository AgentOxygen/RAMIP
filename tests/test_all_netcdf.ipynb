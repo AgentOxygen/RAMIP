{
 "cells": [
  {
   "cell_type": "code",
   "execution_count": 1,
   "metadata": {},
   "outputs": [],
   "source": [
    "from run_tests import run, check_model\n",
    "import os\n",
    "\n",
    "import xarray as xr\n",
    "import numpy as np\n",
    "from datetime import timedelta\n",
    "import cftime"
   ]
  },
  {
   "cell_type": "code",
   "execution_count": 14,
   "metadata": {},
   "outputs": [
    {
     "name": "stdout",
     "output_type": "stream",
     "text": [
      "Checking 12 datasets: ['pr_day_NorESM2-LM_ssp126_r1i1p1f1_gn_20510101-20601231.nc', 'pr_day_NorESM2-LM_ssp126_r1i1p1f1_gn_20210101-20301231.nc', 'pr_day_NorESM2-LM_ssp126_r1i1p1f1_gn_20610101-20701230.nc', 'pr_day_NorESM2-LM_ssp126_r1i1p1f1_gn_20810101-20901231.nc', 'pr_day_NorESM2-LM_ssp126_r1i1p1f1_gn_20810101-20901230.nc', 'pr_day_NorESM2-LM_ssp126_r1i1p1f1_gn_20610101-20701231.nc', 'pr_day_NorESM2-LM_ssp126_r1i1p1f1_gn_20910101-21001231.nc', 'pr_day_NorESM2-LM_ssp126_r1i1p1f1_gn_20310101-20401230.nc', 'pr_day_NorESM2-LM_ssp126_r1i1p1f1_gn_20310101-20401231.nc', 'pr_day_NorESM2-LM_ssp126_r1i1p1f1_gn_20410101-20501231.nc', 'pr_day_NorESM2-LM_ssp126_r1i1p1f1_gn_20150101-20201231.nc', 'pr_day_NorESM2-LM_ssp126_r1i1p1f1_gn_20710101-20801231.nc']\n",
      "\n",
      "\n",
      "SUMMARY: 5/5 checks passed.\n",
      "=============================================================\n",
      "\u001b[1m\u001b[32mMonotonic Check passed: \u001b[0m\u001b[32mTime coordinates are strictly increasing.\n",
      "\u001b[0m\u001b[1m\u001b[32mCalendar Check passed: \u001b[0m\u001b[32mTime coordinates use the same calendar across all datasets.\n",
      "\u001b[0m\u001b[1m\u001b[32mUnits Check passed: \u001b[0m\u001b[32mUnits are equivalent across all datasets.\n",
      "\u001b[0m\u001b[1m\u001b[32mVar Name Check passed: \u001b[0m\u001b[32mVariables have the same name across all datasets.\n",
      "\u001b[0m\u001b[1m\u001b[32mSpatial Coord Check passed: \u001b[0m\u001b[32mSpatial coordinates are equivalent across all datasets.\n",
      "\u001b[0m\n"
     ]
    }
   ],
   "source": [
    "path = '/home/persad_research/SIMULATION_DATA/DATA/RAMIP/NorESM2-LM/ssp126/r1i1p1f1/atm/day/pr/'\n",
    "model = 'pr_day_NorESM2-LM_ssp126_r1i1p1f1_gn_'\n",
    "\n",
    "# Gather all of the zarr files that start with the model name\n",
    "netcdfs = [path + f for f in os.listdir(path) if f.startswith(model)]\n",
    "\n",
    "run(netcdfs, True) "
   ]
  },
  {
   "cell_type": "code",
   "execution_count": null,
   "metadata": {},
   "outputs": [],
   "source": []
  }
 ],
 "metadata": {
  "kernelspec": {
   "display_name": "lab",
   "language": "python",
   "name": "python3"
  },
  "language_info": {
   "codemirror_mode": {
    "name": "ipython",
    "version": 3
   },
   "file_extension": ".py",
   "mimetype": "text/x-python",
   "name": "python",
   "nbconvert_exporter": "python",
   "pygments_lexer": "ipython3",
   "version": "3.12.7"
  }
 },
 "nbformat": 4,
 "nbformat_minor": 2
}
