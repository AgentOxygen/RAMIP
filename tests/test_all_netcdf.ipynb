{
 "cells": [
  {
   "cell_type": "code",
   "execution_count": 1,
   "metadata": {},
   "outputs": [],
   "source": [
    "from run_tests import run, check_model\n",
    "import os\n",
    "\n",
    "import xarray as xr\n",
    "import numpy as np\n",
    "from datetime import timedelta\n",
    "import cftime\n",
    "\n",
    "import warnings\n",
    "warnings.filterwarnings(\"ignore\")\n",
    "\n",
    "import random\n"
   ]
  },
  {
   "cell_type": "code",
   "execution_count": 2,
   "metadata": {},
   "outputs": [
    {
     "name": "stdout",
     "output_type": "stream",
     "text": [
      "We are checking 635 files.\n"
     ]
    }
   ],
   "source": [
    "# get ALL of the files under the path directory, including files in subdirectories\n",
    "path = '/home/persad_research/SIMULATION_DATA/DATA/RAMIP/CESM2'\n",
    "netcdfs = []\n",
    "for root, dirs, files in os.walk(path):\n",
    "    for file in files:\n",
    "        if file.endswith(\".nc\"):\n",
    "            netcdfs.append(os.path.join(root, file))\n",
    "print(f\"We are checking {len(netcdfs)} files.\")\n",
    "\n",
    "\n",
    "# check_model(netcdfs)"
   ]
  },
  {
   "cell_type": "code",
   "execution_count": 3,
   "metadata": {},
   "outputs": [
    {
     "name": "stdout",
     "output_type": "stream",
     "text": [
      "Checking 20 datasets: ['b.e21.BHISTsmbb.f09_g17.LE2-1091.005.cam.h1.U10.19900101-19991231.nc', 'pr_day_CESM2_ssp370-AFR126aer_r8i1p1f1_gn_20150101-20791231.nc', 'sfcWind_day_CESM2_ssp370_r11i1p1f1_gn_20350101-20441231.nc', 'b.e21.BHISTsmbb.f09_g17.LE2-1131.007.cam.h1.PRECT.19800101-19891231.nc', 'sfcWind_day_CESM2_ssp370-EAS126aer_r9i1p1f1_gn_20150101-20791231.nc', 'pr_day_CESM2_ssp370-LE_r10i1p1f1_gn_20150101-21010101.nc', 'b.e21.BHISTsmbb.f09_g17.LE2-1191.010.cam.h1.PRECT.19700101-19791231.nc', 'b.e21.BHISTsmbb.f09_g17.LE2-1031.002.cam.h1.TREFHTMX.19800101-19891231.nc', 'hurs_day_CESM2_ssp126_r11i1p1f1_gn_20450101-20541231.nc', 'tasmax_day_CESM2_ssp370-126aer_r1i1p1f1_gn_20150101-20791231.nc', 'pr_day_CESM2_ssp370-NAE126aer_r6i1p1f1_gn_20150101-20601231.nc', 'tasmax_day_CESM2_ssp370-126aer_r6i1p1f1_gn_20150101-20791231.nc', 'b.e21.BHISTsmbb.f09_g17.LE2-1071.004.cam.h1.TREFHTMX.19800101-19891231.nc', 'b.e21.BSSP370smbb.f09_g17.LE2-1071.004.cam.h0.U10.201501-210012.nc', 'pr_day_CESM2_ssp370-AFR126aer_r1i1p1f1_gn_20150101-20791231.nc', 'tasmax_day_CESM2_ssp370-LE_r4i1p1f1_gn_20150101-21010101.nc', 'tas_day_CESM2_ssp370-AFR126aer_r2i1p1f1_gn_20150101-20791231.nc', 'tasmax_day_CESM2_ssp370-EAS126aer_r4i1p1f1_gn_20150101-20791231.nc', 'tas_day_CESM2_ssp370-126aer_r5i1p1f1_gn_20150101-20791231.nc', 'b.e21.BHISTsmbb.f09_g17.LE2-1051.003.cam.h1.U10.19600101-19691231.nc']\n",
      "\n",
      "\n",
      "\u001b[36mCalendar Check Err Output: \n",
      "Comparing majority opinion hurs_day_CESM2_ssp126_r11i1p1f1_gn_20450101-20541231.nc with b.e21.BHISTsmbb.f09_g17.LE2-1091.005.cam.h1.U10.19900101-19991231.nc\u001b[0m\n",
      "365_day vs noleap\n",
      "\n",
      "\u001b[36mCalendar Check Err Output: \n",
      "Comparing majority opinion hurs_day_CESM2_ssp126_r11i1p1f1_gn_20450101-20541231.nc with b.e21.BHISTsmbb.f09_g17.LE2-1131.007.cam.h1.PRECT.19800101-19891231.nc\u001b[0m\n",
      "365_day vs noleap\n",
      "\n",
      "\u001b[36mCalendar Check Err Output: \n",
      "Comparing majority opinion hurs_day_CESM2_ssp126_r11i1p1f1_gn_20450101-20541231.nc with b.e21.BHISTsmbb.f09_g17.LE2-1191.010.cam.h1.PRECT.19700101-19791231.nc\u001b[0m\n",
      "365_day vs noleap\n",
      "\n",
      "\u001b[36mCalendar Check Err Output: \n",
      "Comparing majority opinion hurs_day_CESM2_ssp126_r11i1p1f1_gn_20450101-20541231.nc with b.e21.BHISTsmbb.f09_g17.LE2-1031.002.cam.h1.TREFHTMX.19800101-19891231.nc\u001b[0m\n",
      "365_day vs noleap\n",
      "\n",
      "\u001b[36mCalendar Check Err Output: \n",
      "Comparing majority opinion hurs_day_CESM2_ssp126_r11i1p1f1_gn_20450101-20541231.nc with b.e21.BHISTsmbb.f09_g17.LE2-1071.004.cam.h1.TREFHTMX.19800101-19891231.nc\u001b[0m\n",
      "365_day vs noleap\n",
      "\n",
      "\u001b[36mCalendar Check Err Output: \n",
      "Comparing majority opinion hurs_day_CESM2_ssp126_r11i1p1f1_gn_20450101-20541231.nc with b.e21.BSSP370smbb.f09_g17.LE2-1071.004.cam.h0.U10.201501-210012.nc\u001b[0m\n",
      "365_day vs noleap\n",
      "\n",
      "\u001b[36mCalendar Check Err Output: \n",
      "Comparing majority opinion hurs_day_CESM2_ssp126_r11i1p1f1_gn_20450101-20541231.nc with b.e21.BHISTsmbb.f09_g17.LE2-1051.003.cam.h1.U10.19600101-19691231.nc\u001b[0m\n",
      "365_day vs noleap\n",
      "\n",
      "\u001b[36mSpatial Coordinates Err Output: \n",
      "Comparing majority opinion tas_day_CESM2_ssp370-AFR126aer_r2i1p1f1_gn_20150101-20791231.nc with b.e21.BHISTsmbb.f09_g17.LE2-1091.005.cam.h1.U10.19900101-19991231.nc\n",
      "The spatial dimensions are not the same.\u001b[0m\n",
      "Dataset 1 spatial dims: ['lat', 'lon']\n",
      "Dataset 2 spatial dims: ['lat', 'lon', 'lev']\n",
      "\n",
      "\u001b[36mSpatial Coordinates Err Output: \n",
      "Comparing majority opinion tas_day_CESM2_ssp370-AFR126aer_r2i1p1f1_gn_20150101-20791231.nc with b.e21.BHISTsmbb.f09_g17.LE2-1131.007.cam.h1.PRECT.19800101-19891231.nc\n",
      "The spatial dimensions are not the same.\u001b[0m\n",
      "Dataset 1 spatial dims: ['lat', 'lon']\n",
      "Dataset 2 spatial dims: ['lat', 'lon', 'lev']\n",
      "\n",
      "\u001b[36mSpatial Coordinates Err Output: \n",
      "Comparing majority opinion tas_day_CESM2_ssp370-AFR126aer_r2i1p1f1_gn_20150101-20791231.nc with pr_day_CESM2_ssp370-LE_r10i1p1f1_gn_20150101-21010101.nc\n",
      "The lat dimension does not have the same values. (It's possible that more dimensions also do not have the same values.) Here are the first 10 values that are different: \u001b[0m\n",
      "-71.15183246073298 != -71.15183246073299 (index 20)\n",
      "-69.26701570680629 != -69.26701570680628 (index 22)\n",
      "-60.78534031413612 != -60.78534031413613 (index 31)\n",
      "-31.57068062827225 != -31.570680628272253 (index 62)\n",
      "-27.80104712041885 != -27.801047120418847 (index 66)\n",
      "-26.8586387434555 != -26.858638743455497 (index 67)\n",
      "-25.916230366492144 != -25.916230366492147 (index 68)\n",
      "-24.9738219895288 != -24.973821989528798 (index 69)\n",
      "-23.0890052356021 != -23.089005235602095 (index 71)\n",
      "-21.204188481675388 != -21.20418848167539 (index 73)\n",
      "\n",
      "\u001b[36mSpatial Coordinates Err Output: \n",
      "Comparing majority opinion tas_day_CESM2_ssp370-AFR126aer_r2i1p1f1_gn_20150101-20791231.nc with b.e21.BHISTsmbb.f09_g17.LE2-1191.010.cam.h1.PRECT.19700101-19791231.nc\n",
      "The spatial dimensions are not the same.\u001b[0m\n",
      "Dataset 1 spatial dims: ['lat', 'lon']\n",
      "Dataset 2 spatial dims: ['lat', 'lon', 'lev']\n",
      "\n",
      "\u001b[36mSpatial Coordinates Err Output: \n",
      "Comparing majority opinion tas_day_CESM2_ssp370-AFR126aer_r2i1p1f1_gn_20150101-20791231.nc with b.e21.BHISTsmbb.f09_g17.LE2-1031.002.cam.h1.TREFHTMX.19800101-19891231.nc\n",
      "The spatial dimensions are not the same.\u001b[0m\n",
      "Dataset 1 spatial dims: ['lat', 'lon']\n",
      "Dataset 2 spatial dims: ['lat', 'lon', 'lev']\n",
      "\n",
      "\u001b[36mSpatial Coordinates Err Output: \n",
      "Comparing majority opinion tas_day_CESM2_ssp370-AFR126aer_r2i1p1f1_gn_20150101-20791231.nc with b.e21.BHISTsmbb.f09_g17.LE2-1071.004.cam.h1.TREFHTMX.19800101-19891231.nc\n",
      "The spatial dimensions are not the same.\u001b[0m\n",
      "Dataset 1 spatial dims: ['lat', 'lon']\n",
      "Dataset 2 spatial dims: ['lat', 'lon', 'lev']\n",
      "\n",
      "\u001b[36mSpatial Coordinates Err Output: \n",
      "Comparing majority opinion tas_day_CESM2_ssp370-AFR126aer_r2i1p1f1_gn_20150101-20791231.nc with b.e21.BSSP370smbb.f09_g17.LE2-1071.004.cam.h0.U10.201501-210012.nc\n",
      "The spatial dimensions are not the same.\u001b[0m\n",
      "Dataset 1 spatial dims: ['lat', 'lon']\n",
      "Dataset 2 spatial dims: ['lat', 'lon', 'lev']\n",
      "\n",
      "\u001b[36mSpatial Coordinates Err Output: \n",
      "Comparing majority opinion tas_day_CESM2_ssp370-AFR126aer_r2i1p1f1_gn_20150101-20791231.nc with tasmax_day_CESM2_ssp370-LE_r4i1p1f1_gn_20150101-21010101.nc\n",
      "The lat dimension does not have the same values. (It's possible that more dimensions also do not have the same values.) Here are the first 10 values that are different: \u001b[0m\n",
      "-71.15183246073298 != -71.15183246073299 (index 20)\n",
      "-69.26701570680629 != -69.26701570680628 (index 22)\n",
      "-60.78534031413612 != -60.78534031413613 (index 31)\n",
      "-31.57068062827225 != -31.570680628272253 (index 62)\n",
      "-27.80104712041885 != -27.801047120418847 (index 66)\n",
      "-26.8586387434555 != -26.858638743455497 (index 67)\n",
      "-25.916230366492144 != -25.916230366492147 (index 68)\n",
      "-24.9738219895288 != -24.973821989528798 (index 69)\n",
      "-23.0890052356021 != -23.089005235602095 (index 71)\n",
      "-21.204188481675388 != -21.20418848167539 (index 73)\n",
      "\n",
      "\u001b[36mSpatial Coordinates Err Output: \n",
      "Comparing majority opinion tas_day_CESM2_ssp370-AFR126aer_r2i1p1f1_gn_20150101-20791231.nc with b.e21.BHISTsmbb.f09_g17.LE2-1051.003.cam.h1.U10.19600101-19691231.nc\n",
      "The spatial dimensions are not the same.\u001b[0m\n",
      "Dataset 1 spatial dims: ['lat', 'lon']\n",
      "Dataset 2 spatial dims: ['lat', 'lon', 'lev']\n",
      "\n",
      "\n",
      "\n",
      "SUMMARY: 1/3 checks passed.\n",
      "=============================================================\n",
      "\u001b[1m\u001b[32mMonotonic Check passed: \u001b[0m\u001b[32mTime coordinates are strictly increasing.\n",
      "\u001b[0m\n",
      "\u001b[1m\u001b[31mCalendar Check failed: \u001b[0m\u001b[31mTime coordinates do not use the same calendar across all datasets. The following datasets (7/20) are different from the majority opinion: ['b.e21.BHISTsmbb.f09_g17.LE2-1091.005.cam.h1.U10.19900101-19991231.nc', 'b.e21.BHISTsmbb.f09_g17.LE2-1131.007.cam.h1.PRECT.19800101-19891231.nc', 'b.e21.BHISTsmbb.f09_g17.LE2-1191.010.cam.h1.PRECT.19700101-19791231.nc', 'b.e21.BHISTsmbb.f09_g17.LE2-1031.002.cam.h1.TREFHTMX.19800101-19891231.nc', 'b.e21.BHISTsmbb.f09_g17.LE2-1071.004.cam.h1.TREFHTMX.19800101-19891231.nc', 'b.e21.BSSP370smbb.f09_g17.LE2-1071.004.cam.h0.U10.201501-210012.nc', 'b.e21.BHISTsmbb.f09_g17.LE2-1051.003.cam.h1.U10.19600101-19691231.nc']\n",
      "\u001b[0m\n",
      "\u001b[1m\u001b[31mSpatial Coord Check failed: \u001b[0m\u001b[31mSpatial coordinates are not equivalent across all datasets. The following datasets (9/20) are different from the majority opinion: ['b.e21.BHISTsmbb.f09_g17.LE2-1091.005.cam.h1.U10.19900101-19991231.nc', 'b.e21.BHISTsmbb.f09_g17.LE2-1131.007.cam.h1.PRECT.19800101-19891231.nc', 'pr_day_CESM2_ssp370-LE_r10i1p1f1_gn_20150101-21010101.nc', 'b.e21.BHISTsmbb.f09_g17.LE2-1191.010.cam.h1.PRECT.19700101-19791231.nc', 'b.e21.BHISTsmbb.f09_g17.LE2-1031.002.cam.h1.TREFHTMX.19800101-19891231.nc', 'b.e21.BHISTsmbb.f09_g17.LE2-1071.004.cam.h1.TREFHTMX.19800101-19891231.nc', 'b.e21.BSSP370smbb.f09_g17.LE2-1071.004.cam.h0.U10.201501-210012.nc', 'tasmax_day_CESM2_ssp370-LE_r4i1p1f1_gn_20150101-21010101.nc', 'b.e21.BHISTsmbb.f09_g17.LE2-1051.003.cam.h1.U10.19600101-19691231.nc']\n",
      "\u001b[0m\n",
      "\n"
     ]
    }
   ],
   "source": [
    "netcdfs = random.sample(netcdfs, 20)\n",
    "\n",
    "check_model(netcdfs, True)"
   ]
  },
  {
   "cell_type": "code",
   "execution_count": 4,
   "metadata": {},
   "outputs": [
    {
     "name": "stdout",
     "output_type": "stream",
     "text": [
      "Checking 12 datasets: ['pr_day_NorESM2-LM_ssp126_r1i1p1f1_gn_20510101-20601231.nc', 'pr_day_NorESM2-LM_ssp126_r1i1p1f1_gn_20210101-20301231.nc', 'pr_day_NorESM2-LM_ssp126_r1i1p1f1_gn_20610101-20701230.nc', 'pr_day_NorESM2-LM_ssp126_r1i1p1f1_gn_20810101-20901231.nc', 'pr_day_NorESM2-LM_ssp126_r1i1p1f1_gn_20810101-20901230.nc', 'pr_day_NorESM2-LM_ssp126_r1i1p1f1_gn_20610101-20701231.nc', 'pr_day_NorESM2-LM_ssp126_r1i1p1f1_gn_20910101-21001231.nc', 'pr_day_NorESM2-LM_ssp126_r1i1p1f1_gn_20310101-20401230.nc', 'pr_day_NorESM2-LM_ssp126_r1i1p1f1_gn_20310101-20401231.nc', 'pr_day_NorESM2-LM_ssp126_r1i1p1f1_gn_20410101-20501231.nc', 'pr_day_NorESM2-LM_ssp126_r1i1p1f1_gn_20150101-20201231.nc', 'pr_day_NorESM2-LM_ssp126_r1i1p1f1_gn_20710101-20801231.nc']\n",
      "\n",
      "\n",
      "\n",
      "\n",
      "SUMMARY: 5/5 checks passed.\n",
      "=============================================================\n",
      "\u001b[1m\u001b[32mMonotonic Check passed: \u001b[0m\u001b[32mTime coordinates are strictly increasing.\n",
      "\u001b[0m\n",
      "\u001b[1m\u001b[32mCalendar Check passed: \u001b[0m\u001b[32mTime coordinates use the same calendar across all datasets.\n",
      "\u001b[0m\n",
      "\u001b[1m\u001b[32mUnits Check passed: \u001b[0m\u001b[32mUnits are equivalent across all datasets.\n",
      "\u001b[0m\n",
      "\u001b[1m\u001b[32mVar Name Check passed: \u001b[0m\u001b[32mVariables have the same name across all datasets.\n",
      "\u001b[0m\n",
      "\u001b[1m\u001b[32mSpatial Coord Check passed: \u001b[0m\u001b[32mSpatial coordinates are equivalent across all datasets.\n",
      "\u001b[0m\n",
      "\n"
     ]
    }
   ],
   "source": [
    "path = '/home/persad_research/SIMULATION_DATA/DATA/RAMIP/NorESM2-LM/ssp126/r1i1p1f1/atm/day/pr/'\n",
    "model = 'pr_day_NorESM2-LM_ssp126_r1i1p1f1_gn_'\n",
    "\n",
    "# Gather all of the zarr files that start with the model name\n",
    "netcdfs = [path + f for f in os.listdir(path) if f.startswith(model)]\n",
    "\n",
    "run(netcdfs, True) "
   ]
  },
  {
   "cell_type": "code",
   "execution_count": 5,
   "metadata": {},
   "outputs": [
    {
     "ename": "SyntaxError",
     "evalue": "invalid syntax (3119579144.py, line 2)",
     "output_type": "error",
     "traceback": [
      "\u001b[0;36m  Cell \u001b[0;32mIn[5], line 2\u001b[0;36m\u001b[0m\n\u001b[0;31m    testing2 =\u001b[0m\n\u001b[0m               ^\u001b[0m\n\u001b[0;31mSyntaxError\u001b[0m\u001b[0;31m:\u001b[0m invalid syntax\n"
     ]
    }
   ],
   "source": [
    "testing1 = \"b.e21.BHISTsmbb.f09_g17.LE2-1171.009.cam.h1.U10.19800101-19891231.nc\"\n",
    "testing2 = "
   ]
  }
 ],
 "metadata": {
  "kernelspec": {
   "display_name": "lab",
   "language": "python",
   "name": "python3"
  },
  "language_info": {
   "codemirror_mode": {
    "name": "ipython",
    "version": 3
   },
   "file_extension": ".py",
   "mimetype": "text/x-python",
   "name": "python",
   "nbconvert_exporter": "python",
   "pygments_lexer": "ipython3",
   "version": "3.12.7"
  }
 },
 "nbformat": 4,
 "nbformat_minor": 2
}
