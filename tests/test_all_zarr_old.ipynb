{
 "cells": [
  {
   "cell_type": "markdown",
   "metadata": {},
   "source": [
    "# Old Copy\n",
    "\n",
    "We started this Python notebook to diagnose problems within our Zarr stores. This is a version of the notebook that Sebastian used to debug issues we had in the past. We are keeping a copy of this version as documentation of some of the past errors we've had."
   ]
  },
  {
   "cell_type": "code",
   "execution_count": 1,
   "metadata": {},
   "outputs": [],
   "source": [
    "from run_tests import run, check_model\n",
    "import os\n",
    "\n",
    "import xarray as xr\n",
    "import numpy as np\n",
    "from datetime import timedelta\n",
    "import cftime"
   ]
  },
  {
   "cell_type": "code",
   "execution_count": 2,
   "metadata": {},
   "outputs": [],
   "source": [
    "DIR_DATA = f\"/projects/dgs/persad_research/SIMULATION_DATA/DATA/RAMIP/\"\n",
    "DIR_ZARR = f\"/projects/dgs/persad_research/SIMULATION_DATA/ZARR/RAMIP/SIM_VARIABLES/\""
   ]
  },
  {
   "cell_type": "markdown",
   "metadata": {},
   "source": [
    "# Testing Within A Model\n",
    "\n",
    "First we're going to check if all the things that should be consistent within a *model's* ZARR stores are consistent. "
   ]
  },
  {
   "cell_type": "markdown",
   "metadata": {},
   "source": [
    "## CESM2 "
   ]
  },
  {
   "cell_type": "code",
   "execution_count": 3,
   "metadata": {},
   "outputs": [
    {
     "name": "stdout",
     "output_type": "stream",
     "text": [
      "Checking 25 datasets: ['CESM2_ssp370-sas126aer_day_pr.zarr', 'CESM2_historical_day_sfcWind.zarr', 'CESM2_historical_day_tasmax.zarr', 'CESM2_ssp126_day_hurs.zarr', 'CESM2_ssp370-eas126aer_day_tasmax.zarr', 'CESM2_ssp370-afr126aer_day_pr.zarr', 'CESM2_ssp370-eas126aer_day_pr.zarr', 'CESM2_ssp370-sas126aer_day_hurs.zarr', 'CESM2_ssp370-126aer_day_tasmax.zarr', 'CESM2_ssp370-126aer_day_pr.zarr', 'CESM2_ssp370-afr126aer_day_hurs.zarr', 'CESM2_ssp370-nae126aer_day_pr.zarr', 'CESM2_ssp370_day_tasmax.zarr', 'CESM2_ssp126_day_tasmax.zarr', 'CESM2_historical_day_pr.zarr', 'CESM2_ssp370-afr126aer_day_tasmax.zarr', 'CESM2_ssp370-nae126aer_day_tasmax.zarr', 'CESM2_ssp370_day_hurs.zarr', 'CESM2_ssp370-eas126aer_day_hurs.zarr', 'CESM2_historical_day_hurs.zarr', 'CESM2_ssp126_day_pr.zarr', 'CESM2_ssp370-sas126aer_day_tasmax.zarr', 'CESM2_ssp370_day_pr.zarr', 'CESM2_ssp370-nae126aer_day_hurs.zarr', 'CESM2_ssp370-126aer_day_hurs.zarr']\n",
      "Spatial dims are not the same\n",
      "Spatial dims are not the same\n",
      "Spatial dims are not the same\n",
      "Spatial dims are not the same\n",
      "\n",
      "\n",
      "SUMMARY: 2/3 checks passed.\n",
      "=============================================================\n",
      "\u001b[1m\u001b[32mMonotonic Check passed: \u001b[0m\u001b[32mTime coordinates are monotonic.\n",
      "\u001b[0m\u001b[1m\u001b[32mCalendar Check passed: \u001b[0m\u001b[32mTime coordinates use the same calendar across all datasets.\n",
      "\u001b[0m\u001b[1m\u001b[31mSpatial Coord Check failed: \u001b[0m\u001b[31mSpatial coordinates are not equivalent across all datasets. The following datasets (4/25) are different from the majority opinion: ['CESM2_historical_day_sfcWind.zarr', 'CESM2_historical_day_tasmax.zarr', 'CESM2_historical_day_pr.zarr', 'CESM2_historical_day_hurs.zarr']\n",
      "\u001b[0m\n"
     ]
    }
   ],
   "source": [
    "path = '/projects/dgs/persad_research/SIMULATION_DATA/ZARR/RAMIP/SIM_VARIABLES/'\n",
    "model = 'CESM2'\n",
    "\n",
    "# Gather all of the zarr files that start with the model name\n",
    "zarr_files = [path + f for f in os.listdir(path) if f.startswith(model)]\n",
    "\n",
    "check_model(zarr_files, verbose=True)"
   ]
  },
  {
   "cell_type": "code",
   "execution_count": 4,
   "metadata": {},
   "outputs": [
    {
     "data": {
      "text/plain": [
       "True"
      ]
     },
     "execution_count": 4,
     "metadata": {},
     "output_type": "execute_result"
    }
   ],
   "source": [
    "historical = xr.open_zarr(f\"/projects/dgs/persad_research/SIMULATION_DATA/ZARR/RAMIP/SIM_VARIABLES/CESM2_historical_day_hurs.zarr\")\n",
    "ssp370 = xr.open_zarr(f\"/projects/dgs/persad_research/SIMULATION_DATA/ZARR/RAMIP/SIM_VARIABLES/CESM2_ssp370_day_hurs.zarr\")\n",
    "np.array_equal(historical.lat, ssp370.lat)"
   ]
  },
  {
   "cell_type": "markdown",
   "metadata": {},
   "source": [
    "The latitude coordinates of our CESM2 historical experiment is the same as the latitude coordinates of the rest of our CESM2 experiments."
   ]
  },
  {
   "cell_type": "code",
   "execution_count": 5,
   "metadata": {},
   "outputs": [
    {
     "data": {
      "text/plain": [
       "FrozenMappingWarningOnValuesAccess({'member': 10, 'time': 14600, 'cosp_dbze': 15, 'nbnd': 2, 'cosp_ht': 40, 'cosp_htmisr': 16, 'cosp_prs': 7, 'cosp_reffice': 6, 'cosp_reffliq': 6, 'cosp_scol': 10, 'cosp_sr': 15, 'cosp_sza': 5, 'cosp_tau': 7, 'cosp_tau_modis': 7, 'lat': 192, 'lon': 288, 'ilev': 33, 'lev': 32})"
      ]
     },
     "execution_count": 5,
     "metadata": {},
     "output_type": "execute_result"
    }
   ],
   "source": [
    "historical.dims"
   ]
  },
  {
   "cell_type": "code",
   "execution_count": 6,
   "metadata": {},
   "outputs": [
    {
     "data": {
      "text/plain": [
       "FrozenMappingWarningOnValuesAccess({'member': 10, 'time': 31391, 'lat': 192, 'lon': 288, 'bnds': 2})"
      ]
     },
     "execution_count": 6,
     "metadata": {},
     "output_type": "execute_result"
    }
   ],
   "source": [
    "ssp370.dims"
   ]
  },
  {
   "cell_type": "markdown",
   "metadata": {},
   "source": [
    "Our CESM2 historical experiment has different spatial dimensions than the rest because the historical data has 'lev' while the rest does not."
   ]
  },
  {
   "cell_type": "markdown",
   "metadata": {},
   "source": [
    "## MRI-ESM2-0 "
   ]
  },
  {
   "cell_type": "code",
   "execution_count": 7,
   "metadata": {},
   "outputs": [
    {
     "name": "stdout",
     "output_type": "stream",
     "text": [
      "Checking 2 datasets: ['MRI-ESM2-0_ssp370_day_pr.zarr', 'MRI-ESM2-0_ssp370_day_hurs.zarr']\n",
      "\n",
      "\n",
      "SUMMARY: 3/3 checks passed.\n",
      "=============================================================\n",
      "\u001b[1m\u001b[32mMonotonic Check passed: \u001b[0m\u001b[32mTime coordinates are monotonic.\n",
      "\u001b[0m\u001b[1m\u001b[32mCalendar Check passed: \u001b[0m\u001b[32mTime coordinates use the same calendar across all datasets.\n",
      "\u001b[0m\u001b[1m\u001b[32mSpatial Coord Check passed: \u001b[0m\u001b[32mSpatial coordinates are equivalent across all datasets.\n",
      "\u001b[0m\n"
     ]
    }
   ],
   "source": [
    "path = '/projects/dgs/persad_research/SIMULATION_DATA/ZARR/RAMIP/SIM_VARIABLES/'\n",
    "model = 'MRI-ESM2-0'\n",
    "\n",
    "# Gather all of the zarr files that start with the model name\n",
    "zarr_files = [path + f for f in os.listdir(path) if f.startswith(model)]\n",
    "\n",
    "check_model(zarr_files, verbose = True)"
   ]
  },
  {
   "cell_type": "markdown",
   "metadata": {},
   "source": [
    "## NorESM2-LM "
   ]
  },
  {
   "cell_type": "code",
   "execution_count": 8,
   "metadata": {},
   "outputs": [
    {
     "name": "stdout",
     "output_type": "stream",
     "text": [
      "Checking 32 datasets: ['NorESM2-LM_ssp370-eas126aer_day_pr.zarr', 'NorESM2-LM_ssp370-afr126aer_day_tasmax.zarr', 'NorESM2-LM_ssp370-sas126aer_day_hurs.zarr', 'NorESM2-LM_ssp370-nae126aer_day_tasmax.zarr', 'NorESM2-LM_ssp370_day_pr.zarr', 'NorESM2-LM_ssp126_day_pr.zarr', 'NorESM2-LM_ssp370-afr126aer_day_pr.zarr', 'NorESM2-LM_ssp370-eas126aer_day_sfcWind.zarr', 'NorESM2-LM_historical_day_hurs.zarr', 'NorESM2-LM_ssp370-afr126aer_day_sfcWind.zarr', 'NorESM2-LM_ssp370_day_sfcWind.zarr', 'NorESM2-LM_ssp370-sas126aer_day_tasmax.zarr', 'NorESM2-LM_ssp370-nae126aer_day_sfcWind.zarr', 'NorESM2-LM_ssp126_day_hurs.zarr', 'NorESM2-LM_historical_day_sfcWind.zarr', 'NorESM2-LM_ssp370-sas126aer_day_pr.zarr', 'NorESM2-LM_ssp370-126aer_day_sfcWind.zarr', 'NorESM2-LM_ssp370-nae126aer_day_hurs.zarr', 'NorESM2-LM_ssp126_day_sfcWind.zarr', 'NorESM2-LM_ssp370-eas126aer_day_hurs.zarr', 'NorESM2-LM_ssp370-126aer_day_hurs.zarr', 'NorESM2-LM_ssp370-126aer_day_pr.zarr', 'NorESM2-LM_ssp126_day_tasmax.zarr', 'NorESM2-LM_ssp370-126aer_day_tasmax.zarr', 'NorESM2-LM_ssp370-sas126aer_day_sfcWind.zarr', 'NorESM2-LM_historical_day_pr.zarr', 'NorESM2-LM_ssp370_day_hurs.zarr', 'NorESM2-LM_historical_day_tasmax.zarr', 'NorESM2-LM_ssp370-nae126aer_day_pr.zarr', 'NorESM2-LM_ssp370-eas126aer_day_tasmax.zarr', 'NorESM2-LM_ssp370_day_tasmax.zarr', 'NorESM2-LM_ssp370-afr126aer_day_hurs.zarr']\n",
      "\n",
      "\n",
      "SUMMARY: 2/3 checks passed.\n",
      "=============================================================\n",
      "\u001b[1m\u001b[31mMonotonic Check failed: \u001b[0m\u001b[31mTime coordinates are not monotonic. The following datasets (4/32) are different from the majority opinion: ['NorESM2-LM_ssp126_day_pr.zarr', 'NorESM2-LM_ssp126_day_hurs.zarr', 'NorESM2-LM_ssp126_day_sfcWind.zarr', 'NorESM2-LM_ssp126_day_tasmax.zarr']\n",
      "\u001b[0m\u001b[1m\u001b[32mCalendar Check passed: \u001b[0m\u001b[32mTime coordinates use the same calendar across all datasets.\n",
      "\u001b[0m\u001b[1m\u001b[32mSpatial Coord Check passed: \u001b[0m\u001b[32mSpatial coordinates are equivalent across all datasets.\n",
      "\u001b[0m\n"
     ]
    }
   ],
   "source": [
    "path = '/projects/dgs/persad_research/SIMULATION_DATA/ZARR/RAMIP/SIM_VARIABLES/'\n",
    "model = 'NorESM2-LM'\n",
    "\n",
    "# Gather all of the zarr files that start with the model name\n",
    "zarr_files = [path + f for f in os.listdir(path) if f.startswith(model)]\n",
    "\n",
    "check_model(zarr_files, verbose=True)"
   ]
  },
  {
   "cell_type": "code",
   "execution_count": 9,
   "metadata": {},
   "outputs": [
    {
     "data": {
      "text/plain": [
       "CFTimeIndex([2015-01-01 12:00:00, 2015-01-02 12:00:00, 2015-01-03 12:00:00,\n",
       "             2015-01-04 12:00:00, 2015-01-05 12:00:00, 2015-01-06 12:00:00,\n",
       "             2015-01-07 12:00:00, 2015-01-08 12:00:00, 2015-01-09 12:00:00,\n",
       "             2015-01-10 12:00:00,\n",
       "             ...\n",
       "             2100-12-22 12:00:00, 2100-12-23 12:00:00, 2100-12-24 12:00:00,\n",
       "             2100-12-25 12:00:00, 2100-12-26 12:00:00, 2100-12-27 12:00:00,\n",
       "             2100-12-28 12:00:00, 2100-12-29 12:00:00, 2100-12-30 12:00:00,\n",
       "             2100-12-31 12:00:00],\n",
       "            dtype='object', length=42337, calendar='noleap', freq=None)"
      ]
     },
     "execution_count": 9,
     "metadata": {},
     "output_type": "execute_result"
    }
   ],
   "source": [
    "NorESM2_ssp126 = xr.open_zarr(f\"{DIR_ZARR}NorESM2-LM_ssp126_day_pr.zarr\")\n",
    "NorESM2_ssp126.time.to_index()"
   ]
  },
  {
   "cell_type": "code",
   "execution_count": 10,
   "metadata": {},
   "outputs": [
    {
     "data": {
      "text/plain": [
       "array([cftime.DatetimeNoLeap(2015, 1, 1, 12, 0, 0, 0, has_year_zero=True),\n",
       "       cftime.DatetimeNoLeap(2015, 1, 2, 12, 0, 0, 0, has_year_zero=True),\n",
       "       cftime.DatetimeNoLeap(2015, 1, 3, 12, 0, 0, 0, has_year_zero=True),\n",
       "       ...,\n",
       "       cftime.DatetimeNoLeap(2100, 12, 29, 12, 0, 0, 0, has_year_zero=True),\n",
       "       cftime.DatetimeNoLeap(2100, 12, 30, 12, 0, 0, 0, has_year_zero=True),\n",
       "       cftime.DatetimeNoLeap(2100, 12, 31, 12, 0, 0, 0, has_year_zero=True)],\n",
       "      dtype=object)"
      ]
     },
     "execution_count": 10,
     "metadata": {},
     "output_type": "execute_result"
    }
   ],
   "source": [
    "NorESM2_ssp126.time.values"
   ]
  },
  {
   "cell_type": "code",
   "execution_count": 11,
   "metadata": {},
   "outputs": [
    {
     "name": "stdout",
     "output_type": "stream",
     "text": [
      "No missing days!\n"
     ]
    }
   ],
   "source": [
    "ds = NorESM2_ssp126\n",
    "\n",
    "# Function to generate 'noleap' calendar dates\n",
    "def generate_noleap_date_range(start_date, end_date):\n",
    "    \"\"\"Generate a range of dates for the 'noleap' calendar.\"\"\"\n",
    "    # Create noleap dates using cftime, which supports custom calendars\n",
    "    return xr.cftime_range(start=start_date, end=end_date, freq='D', calendar='noleap')\n",
    "\n",
    "# Assuming 'time' is the time coordinate in your dataset, and it's using the 'noleap' calendar\n",
    "start_date = ds['time'].min().item()  # Get the first date in the dataset\n",
    "end_date = ds['time'].max().item()    # Get the last date in the dataset\n",
    "\n",
    "# Generate the full 'noleap' date range\n",
    "full_date_range = generate_noleap_date_range(start_date, end_date)\n",
    "\n",
    "# Convert the dataset's time coordinate to cftime objects (for compatibility with 'noleap')\n",
    "dataset_dates = ds['time'].values\n",
    "\n",
    "# Find missing dates\n",
    "missing_dates = [date for date in full_date_range if date not in dataset_dates]\n",
    "\n",
    "if len(missing_dates) == 0:\n",
    "    print(\"No missing days!\")\n",
    "else:\n",
    "    print(f\"Missing days: {missing_dates}\")\n"
   ]
  },
  {
   "cell_type": "markdown",
   "metadata": {},
   "source": [
    "We have 42337 time steps. However, for 85 years of data, we should only have 31025/31026 time steps. Let's check where we have monotonic time steps:"
   ]
  },
  {
   "cell_type": "code",
   "execution_count": 12,
   "metadata": {},
   "outputs": [
    {
     "name": "stdout",
     "output_type": "stream",
     "text": [
      "Monotonicity violated at indices: [ 9489 24088 35037]\n",
      "Values causing violation: CFTimeIndex([2040-12-30 12:00:00, 2070-12-30 12:00:00, 2090-12-30 12:00:00],\n",
      "            dtype='object', length=3, calendar='noleap', freq=None) -> CFTimeIndex([2031-01-01 12:00:00, 2061-01-01 12:00:00, 2081-01-01 12:00:00],\n",
      "            dtype='object', length=3, calendar='noleap', freq=None)\n"
     ]
    }
   ],
   "source": [
    "# Example array with a violation\n",
    "array = ds.time.to_index()\n",
    "\n",
    "# Get the difference between consecutive elements\n",
    "differences = np.diff(array)\n",
    "\n",
    "# Find where differences are negative (indicating a violation)\n",
    "violations = np.where(differences < timedelta(days=0))[0]\n",
    "\n",
    "if len(violations) == 0:\n",
    "    print(\"The array is monotonically increasing.\")\n",
    "else:\n",
    "    print(f\"Monotonicity violated at indices: {violations + 1}\")\n",
    "    print(f\"Values causing violation: {array[violations]} -> {array[violations + 1]}\")\n"
   ]
  },
  {
   "cell_type": "markdown",
   "metadata": {},
   "source": [
    "We have three instances where our time series is discontinuous. Let's see how that looks like:"
   ]
  },
  {
   "cell_type": "markdown",
   "metadata": {},
   "source": [
    "Instance 1:"
   ]
  },
  {
   "cell_type": "code",
   "execution_count": 13,
   "metadata": {},
   "outputs": [
    {
     "data": {
      "text/plain": [
       "cftime.DatetimeNoLeap(2040, 12, 30, 12, 0, 0, 0, has_year_zero=True)"
      ]
     },
     "execution_count": 13,
     "metadata": {},
     "output_type": "execute_result"
    }
   ],
   "source": [
    "ds.time.to_index()[9488]"
   ]
  },
  {
   "cell_type": "code",
   "execution_count": 14,
   "metadata": {},
   "outputs": [
    {
     "data": {
      "text/plain": [
       "cftime.DatetimeNoLeap(2031, 1, 1, 12, 0, 0, 0, has_year_zero=True)"
      ]
     },
     "execution_count": 14,
     "metadata": {},
     "output_type": "execute_result"
    }
   ],
   "source": [
    "ds.time.to_index()[9489]"
   ]
  },
  {
   "cell_type": "markdown",
   "metadata": {},
   "source": [
    "Instance 2:"
   ]
  },
  {
   "cell_type": "code",
   "execution_count": 15,
   "metadata": {},
   "outputs": [
    {
     "data": {
      "text/plain": [
       "cftime.DatetimeNoLeap(2070, 12, 30, 12, 0, 0, 0, has_year_zero=True)"
      ]
     },
     "execution_count": 15,
     "metadata": {},
     "output_type": "execute_result"
    }
   ],
   "source": [
    "ds.time.to_index()[24087]"
   ]
  },
  {
   "cell_type": "code",
   "execution_count": 16,
   "metadata": {},
   "outputs": [
    {
     "data": {
      "text/plain": [
       "cftime.DatetimeNoLeap(2061, 1, 1, 12, 0, 0, 0, has_year_zero=True)"
      ]
     },
     "execution_count": 16,
     "metadata": {},
     "output_type": "execute_result"
    }
   ],
   "source": [
    "ds.time.to_index()[24088]"
   ]
  },
  {
   "cell_type": "markdown",
   "metadata": {},
   "source": [
    "Instance 3:"
   ]
  },
  {
   "cell_type": "code",
   "execution_count": 17,
   "metadata": {},
   "outputs": [
    {
     "data": {
      "text/plain": [
       "cftime.DatetimeNoLeap(2090, 12, 30, 12, 0, 0, 0, has_year_zero=True)"
      ]
     },
     "execution_count": 17,
     "metadata": {},
     "output_type": "execute_result"
    }
   ],
   "source": [
    "ds.time.to_index()[35036]"
   ]
  },
  {
   "cell_type": "code",
   "execution_count": 18,
   "metadata": {},
   "outputs": [
    {
     "data": {
      "text/plain": [
       "cftime.DatetimeNoLeap(2081, 1, 1, 12, 0, 0, 0, has_year_zero=True)"
      ]
     },
     "execution_count": 18,
     "metadata": {},
     "output_type": "execute_result"
    }
   ],
   "source": [
    "ds.time.to_index()[35037]"
   ]
  },
  {
   "cell_type": "markdown",
   "metadata": {},
   "source": [
    "## SPEAR "
   ]
  },
  {
   "cell_type": "code",
   "execution_count": 19,
   "metadata": {},
   "outputs": [
    {
     "name": "stdout",
     "output_type": "stream",
     "text": [
      "\n",
      "\n",
      "SUMMARY: 3/3 checks passed.\n",
      "=============================================================\n",
      "\u001b[1m\u001b[32mMonotonic Check passed: \u001b[0m\u001b[32mTime coordinates are monotonic.\n",
      "\u001b[0m\u001b[1m\u001b[32mCalendar Check passed: \u001b[0m\u001b[32mTime coordinates use the same calendar across all datasets.\n",
      "\u001b[0m\u001b[1m\u001b[32mSpatial Coord Check passed: \u001b[0m\u001b[32mSpatial coordinates are equivalent across all datasets.\n",
      "\u001b[0m\n"
     ]
    }
   ],
   "source": [
    "path = '/projects/dgs/persad_research/SIMULATION_DATA/ZARR/RAMIP/SIM_VARIABLES/'\n",
    "model = 'SPEAR'\n",
    "\n",
    "# Gather all of the zarr files that start with the model name\n",
    "zarr_files = [path + f for f in os.listdir(path) if f.startswith(model)]\n",
    "\n",
    "check_model(zarr_files)"
   ]
  },
  {
   "cell_type": "markdown",
   "metadata": {},
   "source": [
    "# Test Within Variables"
   ]
  },
  {
   "cell_type": "code",
   "execution_count": 20,
   "metadata": {},
   "outputs": [
    {
     "name": "stdout",
     "output_type": "stream",
     "text": [
      "['/projects/dgs/persad_research/SIMULATION_DATA/ZARR/RAMIP/SIM_VARIABLES/NorESM2-LM_ssp370-sas126aer_day_hurs.zarr', '/projects/dgs/persad_research/SIMULATION_DATA/ZARR/RAMIP/SIM_VARIABLES/SPEAR_ssp370-nae126aer_day_hurs.zarr', '/projects/dgs/persad_research/SIMULATION_DATA/ZARR/RAMIP/SIM_VARIABLES/SPEAR_ssp370-eas126aer_day_hurs.zarr', '/projects/dgs/persad_research/SIMULATION_DATA/ZARR/RAMIP/SIM_VARIABLES/CESM2_ssp126_day_hurs.zarr', '/projects/dgs/persad_research/SIMULATION_DATA/ZARR/RAMIP/SIM_VARIABLES/NorESM2-LM_historical_day_hurs.zarr', '/projects/dgs/persad_research/SIMULATION_DATA/ZARR/RAMIP/SIM_VARIABLES/CanESM5-1_ssp370_day_hurs.zarr', '/projects/dgs/persad_research/SIMULATION_DATA/ZARR/RAMIP/SIM_VARIABLES/NorESM2-LM_ssp126_day_hurs.zarr', '/projects/dgs/persad_research/SIMULATION_DATA/ZARR/RAMIP/SIM_VARIABLES/CESM2_ssp370-sas126aer_day_hurs.zarr', '/projects/dgs/persad_research/SIMULATION_DATA/ZARR/RAMIP/SIM_VARIABLES/SPEAR_ssp370-afr126aer_day_hurs.zarr', '/projects/dgs/persad_research/SIMULATION_DATA/ZARR/RAMIP/SIM_VARIABLES/SPEAR_ssp370_day_hurs.zarr', '/projects/dgs/persad_research/SIMULATION_DATA/ZARR/RAMIP/SIM_VARIABLES/CanESM5-1_ssp370-sas126aer_day_hurs.zarr', '/projects/dgs/persad_research/SIMULATION_DATA/ZARR/RAMIP/SIM_VARIABLES/CESM2_ssp370-afr126aer_day_hurs.zarr', '/projects/dgs/persad_research/SIMULATION_DATA/ZARR/RAMIP/SIM_VARIABLES/SPEAR_ssp370-sas126aer_day_hurs.zarr', '/projects/dgs/persad_research/SIMULATION_DATA/ZARR/RAMIP/SIM_VARIABLES/EC-Earth3-AerChem_ssp370_day_hurs.zarr', '/projects/dgs/persad_research/SIMULATION_DATA/ZARR/RAMIP/SIM_VARIABLES/CanESM5-1_ssp370-126aer_day_hurs.zarr', '/projects/dgs/persad_research/SIMULATION_DATA/ZARR/RAMIP/SIM_VARIABLES/NorESM2-LM_ssp370-nae126aer_day_hurs.zarr', '/projects/dgs/persad_research/SIMULATION_DATA/ZARR/RAMIP/SIM_VARIABLES/MRI-ESM2-0_ssp370_day_hurs.zarr', '/projects/dgs/persad_research/SIMULATION_DATA/ZARR/RAMIP/SIM_VARIABLES/SPEAR_historical_day_hurs.zarr', '/projects/dgs/persad_research/SIMULATION_DATA/ZARR/RAMIP/SIM_VARIABLES/NorESM2-LM_ssp370-eas126aer_day_hurs.zarr', '/projects/dgs/persad_research/SIMULATION_DATA/ZARR/RAMIP/SIM_VARIABLES/NorESM2-LM_ssp370-126aer_day_hurs.zarr', '/projects/dgs/persad_research/SIMULATION_DATA/ZARR/RAMIP/SIM_VARIABLES/CESM2_ssp370_day_hurs.zarr', '/projects/dgs/persad_research/SIMULATION_DATA/ZARR/RAMIP/SIM_VARIABLES/SPEAR_ssp370-126aer_day_hurs.zarr', '/projects/dgs/persad_research/SIMULATION_DATA/ZARR/RAMIP/SIM_VARIABLES/CESM2_ssp370-eas126aer_day_hurs.zarr', '/projects/dgs/persad_research/SIMULATION_DATA/ZARR/RAMIP/SIM_VARIABLES/CanESM5-1_ssp370-eas126aer_day_hurs.zarr', '/projects/dgs/persad_research/SIMULATION_DATA/ZARR/RAMIP/SIM_VARIABLES/CESM2_historical_day_hurs.zarr', '/projects/dgs/persad_research/SIMULATION_DATA/ZARR/RAMIP/SIM_VARIABLES/NorESM2-LM_ssp370_day_hurs.zarr', '/projects/dgs/persad_research/SIMULATION_DATA/ZARR/RAMIP/SIM_VARIABLES/SPEAR_ssp126_day_hurs.zarr', '/projects/dgs/persad_research/SIMULATION_DATA/ZARR/RAMIP/SIM_VARIABLES/CESM2_ssp370-nae126aer_day_hurs.zarr', '/projects/dgs/persad_research/SIMULATION_DATA/ZARR/RAMIP/SIM_VARIABLES/CESM2_ssp370-126aer_day_hurs.zarr', '/projects/dgs/persad_research/SIMULATION_DATA/ZARR/RAMIP/SIM_VARIABLES/NorESM2-LM_ssp370-afr126aer_day_hurs.zarr']\n",
      "\n",
      "\n",
      "SUMMARY: 0/5 checks passed.\n",
      "=============================================================\n",
      "\u001b[1m\u001b[31mMonotonic Check failed: \u001b[0m\u001b[31mTime coordinates are not monotonic. The following datasets (1/30) are different from the majority opinion: ['NorESM2-LM_ssp126_day_hurs.zarr']\n",
      "\u001b[0m\u001b[1m\u001b[31mCalendar Check failed: \u001b[0m\u001b[31mTime coordinates do not use the same calendar across all datasets. The following datasets (6/30) are different from the majority opinion: ['CanESM5-1_ssp370_day_hurs.zarr', 'CanESM5-1_ssp370-sas126aer_day_hurs.zarr', 'EC-Earth3-AerChem_ssp370_day_hurs.zarr', 'CanESM5-1_ssp370-126aer_day_hurs.zarr', 'MRI-ESM2-0_ssp370_day_hurs.zarr', 'CanESM5-1_ssp370-eas126aer_day_hurs.zarr']\n",
      "\u001b[0m\u001b[1m\u001b[31mUnits Check failed: \u001b[0m\u001b[31mUnits are not equivalent across all datasets. The following datasets (9/30) are different from the majority opinion: ['SPEAR_ssp370-nae126aer_day_hurs.zarr', 'SPEAR_ssp370-eas126aer_day_hurs.zarr', 'SPEAR_ssp370-afr126aer_day_hurs.zarr', 'SPEAR_ssp370_day_hurs.zarr', 'SPEAR_ssp370-sas126aer_day_hurs.zarr', 'SPEAR_historical_day_hurs.zarr', 'SPEAR_ssp370-126aer_day_hurs.zarr', 'CESM2_historical_day_hurs.zarr', 'SPEAR_ssp126_day_hurs.zarr']\n",
      "\u001b[0m\u001b[1m\u001b[31mVar Name Check failed: \u001b[0m\u001b[31mVariables do not have the same name across all datasets. The following datasets (9/30) are different from the majority opinion: ['SPEAR_ssp370-nae126aer_day_hurs.zarr', 'SPEAR_ssp370-eas126aer_day_hurs.zarr', 'SPEAR_ssp370-afr126aer_day_hurs.zarr', 'SPEAR_ssp370_day_hurs.zarr', 'SPEAR_ssp370-sas126aer_day_hurs.zarr', 'SPEAR_historical_day_hurs.zarr', 'SPEAR_ssp370-126aer_day_hurs.zarr', 'CESM2_historical_day_hurs.zarr', 'SPEAR_ssp126_day_hurs.zarr']\n",
      "\u001b[0m\u001b[1m\u001b[31mSpatial Coord Check failed: \u001b[0m\u001b[31mSpatial coordinates are not equivalent across all datasets. A majority of them are different from each other.\n",
      "\u001b[0m\n",
      "If you would like more information on why the checks failed, run the function with the verbose flag set to True. To avoid this output becoming too long, we would recommend running the function with just two files at a time.\n"
     ]
    }
   ],
   "source": [
    "path = '/projects/dgs/persad_research/SIMULATION_DATA/ZARR/RAMIP/SIM_VARIABLES/'\n",
    "variable = 'hurs'\n",
    "\n",
    "# Gather all the zarr files that include the variable name\n",
    "zarr_files = [path + f for f in os.listdir(path) if variable in f]\n",
    "print(zarr_files)\n",
    "run(zarr_files)"
   ]
  }
 ],
 "metadata": {
  "kernelspec": {
   "display_name": "lab",
   "language": "python",
   "name": "python3"
  },
  "language_info": {
   "codemirror_mode": {
    "name": "ipython",
    "version": 3
   },
   "file_extension": ".py",
   "mimetype": "text/x-python",
   "name": "python",
   "nbconvert_exporter": "python",
   "pygments_lexer": "ipython3",
   "version": "3.12.7"
  }
 },
 "nbformat": 4,
 "nbformat_minor": 4
}
