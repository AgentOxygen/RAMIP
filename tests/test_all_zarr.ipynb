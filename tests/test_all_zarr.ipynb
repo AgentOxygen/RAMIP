{
 "cells": [
  {
   "cell_type": "code",
   "execution_count": 1,
   "metadata": {},
   "outputs": [],
   "source": [
    "from run_tests import run, check_model\n",
    "import os\n",
    "\n",
    "import xarray as xr\n",
    "import numpy as np\n",
    "from datetime import timedelta\n",
    "import cftime"
   ]
  },
  {
   "cell_type": "code",
   "execution_count": 2,
   "metadata": {},
   "outputs": [],
   "source": [
    "DIR_DATA = f\"/projects/dgs/persad_research/SIMULATION_DATA/DATA/RAMIP/\"\n",
    "DIR_ZARR = f\"/projects/dgs/persad_research/SIMULATION_DATA/ZARR/RAMIP/SIM_VARIABLES/\""
   ]
  },
  {
   "cell_type": "markdown",
   "metadata": {},
   "source": [
    "# Testing Within A Model\n",
    "\n",
    "First we're going to check if all the things that should be consistent within a *model's* ZARR stores are consistent. "
   ]
  },
  {
   "cell_type": "markdown",
   "metadata": {},
   "source": [
    "## CESM2 "
   ]
  },
  {
   "cell_type": "code",
   "execution_count": 3,
   "metadata": {},
   "outputs": [
    {
     "name": "stderr",
     "output_type": "stream",
     "text": [
      "Exception ignored in: <bound method IPythonKernel._clean_thread_parent_frames of <ipykernel.ipkernel.IPythonKernel object at 0x7f52f6b047a0>>\n",
      "Traceback (most recent call last):\n",
      "  File \"/home/jupyterhub/miniconda-persad/envs/lab/lib/python3.12/site-packages/ipykernel/ipkernel.py\", line 775, in _clean_thread_parent_frames\n",
      "    def _clean_thread_parent_frames(\n",
      "\n",
      "KeyboardInterrupt: \n"
     ]
    },
    {
     "name": "stdout",
     "output_type": "stream",
     "text": [
      "Checking 32 datasets: ['CESM2_ssp126_day_sfcWind.zarr', 'CESM2_ssp370-sas126aer_day_pr.zarr', 'CESM2_ssp370-126aer_day_sfcWind.zarr', 'CESM2_historical_day_sfcWind.zarr', 'CESM2_historical_day_tasmax.zarr', 'CESM2_ssp126_day_hurs.zarr', 'CESM2_ssp370-eas126aer_day_tasmax.zarr', 'CESM2_ssp370-afr126aer_day_pr.zarr', 'CESM2_ssp370-eas126aer_day_pr.zarr', 'CESM2_ssp370-sas126aer_day_hurs.zarr', 'CESM2_ssp370-126aer_day_tasmax.zarr', 'CESM2_ssp370-sas126aer_day_sfcWind.zarr', 'CESM2_ssp370-126aer_day_pr.zarr', 'CESM2_ssp370-afr126aer_day_hurs.zarr', 'CESM2_ssp370-nae126aer_day_pr.zarr', 'CESM2_ssp370_day_tasmax.zarr', 'CESM2_ssp370-eas126aer_day_sfcWind.zarr', 'CESM2_ssp126_day_tasmax.zarr', 'CESM2_historical_day_pr.zarr', 'CESM2_ssp370-afr126aer_day_tasmax.zarr', 'CESM2_ssp370-nae126aer_day_tasmax.zarr', 'CESM2_ssp370_day_hurs.zarr', 'CESM2_ssp370-eas126aer_day_hurs.zarr', 'CESM2_historical_day_hurs.zarr', 'CESM2_ssp370_day_sfcWind.zarr', 'CESM2_ssp126_day_pr.zarr', 'CESM2_ssp370-afr126aer_day_sfcWind.zarr', 'CESM2_ssp370-sas126aer_day_tasmax.zarr', 'CESM2_ssp370_day_pr.zarr', 'CESM2_ssp370-nae126aer_day_sfcWind.zarr', 'CESM2_ssp370-nae126aer_day_hurs.zarr', 'CESM2_ssp370-126aer_day_hurs.zarr']\n",
      "\n",
      "\n",
      "\u001b[36mSpatial Coordinates Err Output: \n",
      "Comparing majority opinion CESM2_ssp126_day_sfcWind.zarr with CESM2_historical_day_sfcWind.zarr\n",
      "The spatial dimensions are not the same.\u001b[0m\n",
      "Dataset 1 spatial dims: ['lat', 'lon']\n",
      "Dataset 2 spatial dims: ['lat', 'lon', 'lev']\n",
      "\n",
      "\u001b[36mSpatial Coordinates Err Output: \n",
      "Comparing majority opinion CESM2_ssp126_day_sfcWind.zarr with CESM2_historical_day_tasmax.zarr\n",
      "The spatial dimensions are not the same.\u001b[0m\n",
      "Dataset 1 spatial dims: ['lat', 'lon']\n",
      "Dataset 2 spatial dims: ['lat', 'lon', 'lev']\n",
      "\n",
      "\u001b[36mSpatial Coordinates Err Output: \n",
      "Comparing majority opinion CESM2_ssp126_day_sfcWind.zarr with CESM2_historical_day_pr.zarr\n",
      "The spatial dimensions are not the same.\u001b[0m\n",
      "Dataset 1 spatial dims: ['lat', 'lon']\n",
      "Dataset 2 spatial dims: ['lat', 'lon', 'lev']\n",
      "\n",
      "\u001b[36mSpatial Coordinates Err Output: \n",
      "Comparing majority opinion CESM2_ssp126_day_sfcWind.zarr with CESM2_historical_day_hurs.zarr\n",
      "The spatial dimensions are not the same.\u001b[0m\n",
      "Dataset 1 spatial dims: ['lat', 'lon']\n",
      "Dataset 2 spatial dims: ['lat', 'lon', 'lev']\n",
      "\n",
      "\u001b[36mSpatial Coordinates Err Output: \n",
      "Comparing majority opinion CESM2_ssp126_day_sfcWind.zarr with CESM2_ssp370_day_sfcWind.zarr\n",
      "The spatial dimensions are not the same.\u001b[0m\n",
      "Dataset 1 spatial dims: ['lat', 'lon']\n",
      "Dataset 2 spatial dims: ['lat', 'lon', 'lev']\n",
      "\n"
     ]
    },
    {
     "name": "stderr",
     "output_type": "stream",
     "text": [
      "/home/persad_users/wls885/RAMIP/tests/test_timestep.py:15: RuntimeWarning: Converting a CFTimeIndex with dates from a non-standard calendar, 'noleap', to a pandas.DatetimeIndex, which uses dates from the standard calendar.  This may lead to subtle errors in operations that depend on the length of time between dates.\n",
      "  times = ds.time.to_index().to_datetimeindex()  #.diff().to_series()\n"
     ]
    },
    {
     "name": "stdout",
     "output_type": "stream",
     "text": [
      "DatetimeIndex(['2015-01-01', '2015-01-02', '2015-01-03', '2015-01-04',\n",
      "               '2015-01-05', '2015-01-06', '2015-01-07', '2015-01-08',\n",
      "               '2015-01-09', '2015-01-10',\n",
      "               ...\n",
      "               '2100-12-23', '2100-12-24', '2100-12-25', '2100-12-26',\n",
      "               '2100-12-27', '2100-12-28', '2100-12-29', '2100-12-30',\n",
      "               '2100-12-31', '2101-01-01'],\n",
      "              dtype='datetime64[ns]', length=31391, freq=None)\n",
      "None\n"
     ]
    },
    {
     "ename": "NameError",
     "evalue": "name 'time_diffs' is not defined",
     "output_type": "error",
     "traceback": [
      "\u001b[0;31m---------------------------------------------------------------------------\u001b[0m",
      "\u001b[0;31mNameError\u001b[0m                                 Traceback (most recent call last)",
      "Cell \u001b[0;32mIn[3], line 7\u001b[0m\n\u001b[1;32m      4\u001b[0m \u001b[38;5;66;03m# Gather all of the zarr files that start with the model name\u001b[39;00m\n\u001b[1;32m      5\u001b[0m zarr_files \u001b[38;5;241m=\u001b[39m [path \u001b[38;5;241m+\u001b[39m f \u001b[38;5;28;01mfor\u001b[39;00m f \u001b[38;5;129;01min\u001b[39;00m os\u001b[38;5;241m.\u001b[39mlistdir(path) \u001b[38;5;28;01mif\u001b[39;00m f\u001b[38;5;241m.\u001b[39mstartswith(model) \u001b[38;5;129;01mand\u001b[39;00m f\u001b[38;5;241m.\u001b[39mendswith(\u001b[38;5;124m'\u001b[39m\u001b[38;5;124m.zarr\u001b[39m\u001b[38;5;124m'\u001b[39m)]\n\u001b[0;32m----> 7\u001b[0m \u001b[43mcheck_model\u001b[49m\u001b[43m(\u001b[49m\u001b[43mzarr_files\u001b[49m\u001b[43m,\u001b[49m\u001b[43m \u001b[49m\u001b[43mverbose\u001b[49m\u001b[38;5;241;43m=\u001b[39;49m\u001b[38;5;28;43;01mTrue\u001b[39;49;00m\u001b[43m)\u001b[49m\n",
      "File \u001b[0;32m~/RAMIP/tests/run_tests.py:24\u001b[0m, in \u001b[0;36mcheck_model\u001b[0;34m(paths, verbose)\u001b[0m\n\u001b[1;32m     23\u001b[0m \u001b[38;5;28;01mdef\u001b[39;00m \u001b[38;5;21mcheck_model\u001b[39m(paths: \u001b[38;5;28mlist\u001b[39m[\u001b[38;5;28mstr\u001b[39m], verbose: \u001b[38;5;28mbool\u001b[39m\u001b[38;5;241m=\u001b[39m\u001b[38;5;28;01mFalse\u001b[39;00m) \u001b[38;5;241m-\u001b[39m\u001b[38;5;241m>\u001b[39m \u001b[38;5;28;01mNone\u001b[39;00m:\n\u001b[0;32m---> 24\u001b[0m     \u001b[43mrun\u001b[49m\u001b[43m(\u001b[49m\u001b[43mpaths\u001b[49m\u001b[43m,\u001b[49m\u001b[43m \u001b[49m\u001b[43mcheck_variable_name\u001b[49m\u001b[38;5;241;43m=\u001b[39;49m\u001b[38;5;28;43;01mFalse\u001b[39;49;00m\u001b[43m,\u001b[49m\u001b[43m \u001b[49m\u001b[43mcheck_units\u001b[49m\u001b[38;5;241;43m=\u001b[39;49m\u001b[38;5;28;43;01mFalse\u001b[39;49;00m\u001b[43m,\u001b[49m\u001b[43m \u001b[49m\u001b[43mverbose\u001b[49m\u001b[38;5;241;43m=\u001b[39;49m\u001b[43mverbose\u001b[49m\u001b[43m)\u001b[49m\n",
      "File \u001b[0;32m~/RAMIP/tests/run_tests.py:64\u001b[0m, in \u001b[0;36mrun\u001b[0;34m(paths, verbose, check_monotonic, check_calendar, check_units, check_variable_name, check_spatial_coords, check_time_gaps, check_timestep)\u001b[0m\n\u001b[1;32m     62\u001b[0m     summary_msg \u001b[38;5;241m+\u001b[39m\u001b[38;5;241m=\u001b[39m test_spatial_coords(datasets, verbose, checks) \u001b[38;5;241m+\u001b[39m \u001b[38;5;124m\"\u001b[39m\u001b[38;5;130;01m\\n\u001b[39;00m\u001b[38;5;124m\"\u001b[39m\n\u001b[1;32m     63\u001b[0m \u001b[38;5;28;01mif\u001b[39;00m check_time_gaps:\n\u001b[0;32m---> 64\u001b[0m     summary_msg \u001b[38;5;241m+\u001b[39m\u001b[38;5;241m=\u001b[39m \u001b[43mtest_time_gaps\u001b[49m\u001b[43m(\u001b[49m\u001b[43mdatasets_with_time\u001b[49m\u001b[43m,\u001b[49m\u001b[43m \u001b[49m\u001b[43mverbose\u001b[49m\u001b[43m,\u001b[49m\u001b[43m \u001b[49m\u001b[43mchecks\u001b[49m\u001b[43m)\u001b[49m \u001b[38;5;241m+\u001b[39m \u001b[38;5;124m\"\u001b[39m\u001b[38;5;130;01m\\n\u001b[39;00m\u001b[38;5;124m\"\u001b[39m\n\u001b[1;32m     65\u001b[0m \u001b[38;5;28;01mif\u001b[39;00m check_timestep:\n\u001b[1;32m     66\u001b[0m     summary_msg \u001b[38;5;241m+\u001b[39m\u001b[38;5;241m=\u001b[39m test_timestep(datasets_with_time, verbose, checks) \u001b[38;5;241m+\u001b[39m \u001b[38;5;124m\"\u001b[39m\u001b[38;5;130;01m\\n\u001b[39;00m\u001b[38;5;124m\"\u001b[39m\n",
      "File \u001b[0;32m~/RAMIP/tests/test_time_gaps.py:45\u001b[0m, in \u001b[0;36mtest_time_gaps\u001b[0;34m(datasets, verbose, checks)\u001b[0m\n\u001b[1;32m     44\u001b[0m \u001b[38;5;28;01mdef\u001b[39;00m \u001b[38;5;21mtest_time_gaps\u001b[39m(datasets: \u001b[38;5;28mlist\u001b[39m, verbose \u001b[38;5;241m=\u001b[39m \u001b[38;5;28;01mFalse\u001b[39;00m, checks \u001b[38;5;241m=\u001b[39m \u001b[38;5;28;01mNone\u001b[39;00m) \u001b[38;5;241m-\u001b[39m\u001b[38;5;241m>\u001b[39m \u001b[38;5;28mstr\u001b[39m:\n\u001b[0;32m---> 45\u001b[0m     wrong_datasets \u001b[38;5;241m=\u001b[39m \u001b[43mfind_wrong_datasets\u001b[49m\u001b[43m(\u001b[49m\u001b[43mdatasets\u001b[49m\u001b[43m,\u001b[49m\u001b[43m \u001b[49m\u001b[43mcheck_time_gaps\u001b[49m\u001b[43m,\u001b[49m\u001b[43m \u001b[49m\u001b[43mverbose\u001b[49m\u001b[43m)\u001b[49m\n\u001b[1;32m     46\u001b[0m     msgs \u001b[38;5;241m=\u001b[39m [\u001b[38;5;124m\"\u001b[39m\u001b[38;5;124mThere exist time gaps in the datasets.\u001b[39m\u001b[38;5;124m\"\u001b[39m, \n\u001b[1;32m     47\u001b[0m             \u001b[38;5;124m\"\u001b[39m\u001b[38;5;124mThere are no time gaps in the datasets.\u001b[39m\u001b[38;5;124m\"\u001b[39m]\n\u001b[1;32m     48\u001b[0m     \u001b[38;5;28;01mreturn\u001b[39;00m get_indiv_check_msg(wrong_datasets, \u001b[38;5;124m\"\u001b[39m\u001b[38;5;124mTime Gaps Check\u001b[39m\u001b[38;5;124m\"\u001b[39m, msgs, checks, \u001b[38;5;28mlen\u001b[39m(datasets))\n",
      "File \u001b[0;32m~/RAMIP/tests/utils.py:116\u001b[0m, in \u001b[0;36mfind_wrong_datasets\u001b[0;34m(datasets, check, verbose)\u001b[0m\n\u001b[1;32m    114\u001b[0m wrong_datasets \u001b[38;5;241m=\u001b[39m []\n\u001b[1;32m    115\u001b[0m \u001b[38;5;28;01mfor\u001b[39;00m ds \u001b[38;5;129;01min\u001b[39;00m datasets:\n\u001b[0;32m--> 116\u001b[0m     \u001b[38;5;28;01mif\u001b[39;00m \u001b[38;5;129;01mnot\u001b[39;00m \u001b[43mcheck\u001b[49m\u001b[43m(\u001b[49m\u001b[43mds\u001b[49m\u001b[43m,\u001b[49m\u001b[43m \u001b[49m\u001b[43mverbose\u001b[49m\u001b[43m)\u001b[49m:\n\u001b[1;32m    117\u001b[0m         wrong_datasets\u001b[38;5;241m.\u001b[39mappend(ds)\n\u001b[1;32m    118\u001b[0m \u001b[38;5;28;01mreturn\u001b[39;00m wrong_datasets\n",
      "File \u001b[0;32m~/RAMIP/tests/test_time_gaps.py:27\u001b[0m, in \u001b[0;36mcheck_time_gaps\u001b[0;34m(ds, verbose)\u001b[0m\n\u001b[1;32m     26\u001b[0m \u001b[38;5;28;01mdef\u001b[39;00m \u001b[38;5;21mcheck_time_gaps\u001b[39m(ds: xr\u001b[38;5;241m.\u001b[39mDataset, verbose \u001b[38;5;241m=\u001b[39m \u001b[38;5;28;01mFalse\u001b[39;00m):\n\u001b[0;32m---> 27\u001b[0m     timedelta \u001b[38;5;241m=\u001b[39m \u001b[43mget_timedelta\u001b[49m\u001b[43m(\u001b[49m\u001b[43mds\u001b[49m\u001b[43m)\u001b[49m\n\u001b[1;32m     29\u001b[0m     gaps \u001b[38;5;241m=\u001b[39m find_gaps(ds, timedelta)\n\u001b[1;32m     31\u001b[0m     \u001b[38;5;28;01mif\u001b[39;00m verbose \u001b[38;5;129;01mand\u001b[39;00m \u001b[38;5;28mlen\u001b[39m(gaps) \u001b[38;5;241m>\u001b[39m \u001b[38;5;241m0\u001b[39m:\n",
      "File \u001b[0;32m~/RAMIP/tests/test_timestep.py:25\u001b[0m, in \u001b[0;36mget_timedelta\u001b[0;34m(ds)\u001b[0m\n\u001b[1;32m     19\u001b[0m \u001b[38;5;28mprint\u001b[39m(stuff\u001b[38;5;241m.\u001b[39minferred_freq)\n\u001b[1;32m     21\u001b[0m \u001b[38;5;66;03m# print(ds.time.to_index())\u001b[39;00m\n\u001b[1;32m     22\u001b[0m \u001b[38;5;66;03m# print(time_diffs)\u001b[39;00m\n\u001b[1;32m     23\u001b[0m \u001b[38;5;66;03m# print(time_diffs.inferred_freq)\u001b[39;00m\n\u001b[0;32m---> 25\u001b[0m \u001b[38;5;28;01mreturn\u001b[39;00m \u001b[43mtime_diffs\u001b[49m\u001b[38;5;241m.\u001b[39mmode()[\u001b[38;5;241m0\u001b[39m]\n",
      "\u001b[0;31mNameError\u001b[0m: name 'time_diffs' is not defined"
     ]
    }
   ],
   "source": [
    "path = '/projects/dgs/persad_research/SIMULATION_DATA/ZARR/RAMIP/SIM_VARIABLES/'\n",
    "model = 'CESM2'\n",
    "\n",
    "# Gather all of the zarr files that start with the model name\n",
    "zarr_files = [path + f for f in os.listdir(path) if f.startswith(model) and f.endswith('.zarr')]\n",
    "\n",
    "check_model(zarr_files, verbose=True)"
   ]
  },
  {
   "cell_type": "code",
   "execution_count": null,
   "metadata": {},
   "outputs": [
    {
     "data": {
      "text/plain": [
       "True"
      ]
     },
     "execution_count": 8,
     "metadata": {},
     "output_type": "execute_result"
    }
   ],
   "source": [
    "historical = xr.open_zarr(f\"/projects/dgs/persad_research/SIMULATION_DATA/ZARR/RAMIP/SIM_VARIABLES/CESM2_historical_day_hurs.zarr\")\n",
    "ssp370 = xr.open_zarr(f\"/projects/dgs/persad_research/SIMULATION_DATA/ZARR/RAMIP/SIM_VARIABLES/CESM2_ssp370_day_hurs.zarr\")\n",
    "np.array_equal(historical.lat, ssp370.lat)"
   ]
  },
  {
   "cell_type": "markdown",
   "metadata": {},
   "source": [
    "The latitude coordinates of our CESM2 historical experiment is the same as the latitude coordinates of the rest of our CESM2 experiments."
   ]
  },
  {
   "cell_type": "code",
   "execution_count": null,
   "metadata": {},
   "outputs": [
    {
     "data": {
      "text/plain": [
       "FrozenMappingWarningOnValuesAccess({'member': 10, 'time': 14600, 'cosp_dbze': 15, 'nbnd': 2, 'cosp_ht': 40, 'cosp_htmisr': 16, 'cosp_prs': 7, 'cosp_reffice': 6, 'cosp_reffliq': 6, 'cosp_scol': 10, 'cosp_sr': 15, 'cosp_sza': 5, 'cosp_tau': 7, 'cosp_tau_modis': 7, 'lat': 192, 'lon': 288, 'ilev': 33, 'lev': 32})"
      ]
     },
     "execution_count": 9,
     "metadata": {},
     "output_type": "execute_result"
    }
   ],
   "source": [
    "historical.dims"
   ]
  },
  {
   "cell_type": "code",
   "execution_count": null,
   "metadata": {},
   "outputs": [
    {
     "data": {
      "text/plain": [
       "FrozenMappingWarningOnValuesAccess({'member': 10, 'time': 31391, 'lat': 192, 'lon': 288, 'bnds': 2})"
      ]
     },
     "execution_count": 10,
     "metadata": {},
     "output_type": "execute_result"
    }
   ],
   "source": [
    "ssp370.dims"
   ]
  },
  {
   "cell_type": "markdown",
   "metadata": {},
   "source": [
    "Our CESM2 historical experiment has different spatial dimensions than the rest because the historical data has 'lev' while the rest does not."
   ]
  },
  {
   "cell_type": "markdown",
   "metadata": {},
   "source": [
    "## MRI-ESM2-0 "
   ]
  },
  {
   "cell_type": "code",
   "execution_count": null,
   "metadata": {},
   "outputs": [
    {
     "name": "stdout",
     "output_type": "stream",
     "text": [
      "Checking 32 datasets: ['MRI-ESM2-0_ssp370-afr126aer_day_sfcWind.zarr', 'MRI-ESM2-0_ssp370-126aer_day_tasmax.zarr', 'MRI-ESM2-0_ssp126_day_hurs.zarr', 'MRI-ESM2-0_ssp370-nae126aer_day_sfcWind.zarr', 'MRI-ESM2-0_historical_day_sfcWind.zarr', 'MRI-ESM2-0_ssp370-sas126aer_day_pr.zarr', 'MRI-ESM2-0_ssp370-126aer_day_sfcWind.zarr', 'MRI-ESM2-0_ssp126_day_sfcWind.zarr', 'MRI-ESM2-0_ssp370-126aer_day_pr.zarr', 'MRI-ESM2-0_ssp370-eas126aer_day_pr.zarr', 'MRI-ESM2-0_ssp370-sas126aer_day_hurs.zarr', 'MRI-ESM2-0_ssp370-eas126aer_day_sfcWind.zarr', 'MRI-ESM2-0_ssp370-eas126aer_day_tasmax.zarr', 'MRI-ESM2-0_ssp370-afr126aer_day_pr.zarr', 'MRI-ESM2-0_ssp370-nae126aer_day_tasmax.zarr', 'MRI-ESM2-0_ssp370-sas126aer_day_sfcWind.zarr', 'MRI-ESM2-0_ssp370-afr126aer_day_tasmax.zarr', 'MRI-ESM2-0_ssp370_day_pr.zarr', 'MRI-ESM2-0_ssp126_day_tasmax.zarr', 'MRI-ESM2-0_ssp370_day_hurs.zarr', 'MRI-ESM2-0_historical_day_pr.zarr', 'MRI-ESM2-0_ssp370-afr126aer_day_hurs.zarr', 'MRI-ESM2-0_ssp370-nae126aer_day_pr.zarr', 'MRI-ESM2-0_historical_day_hurs.zarr', 'MRI-ESM2-0_ssp370_day_tasmax.zarr', 'MRI-ESM2-0_ssp126_day_pr.zarr', 'MRI-ESM2-0_ssp370-sas126aer_day_tasmax.zarr', 'MRI-ESM2-0_ssp370-nae126aer_day_hurs.zarr', 'MRI-ESM2-0_ssp370-eas126aer_day_hurs.zarr', 'MRI-ESM2-0_ssp370-126aer_day_hurs.zarr', 'MRI-ESM2-0_historical_day_tasmax.zarr', 'MRI-ESM2-0_ssp370_day_sfcWind.zarr']\n",
      "\n",
      "\n",
      "\n",
      "\n",
      "SUMMARY: 5/5 checks passed.\n",
      "=============================================================\n",
      "\u001b[1m\u001b[32mMonotonic Check passed: \u001b[0m\u001b[32mTime coordinates are strictly increasing.\n",
      "\u001b[0m\n",
      "\u001b[1m\u001b[32mCalendar Check passed: \u001b[0m\u001b[32mTime coordinates use the same calendar across all datasets.\n",
      "\u001b[0m\n",
      "\u001b[1m\u001b[32mSpatial Coord Check passed: \u001b[0m\u001b[32mSpatial coordinates are equivalent across all datasets.\n",
      "\u001b[0m\n",
      "\u001b[1m\u001b[32mTime Gaps Check passed: \u001b[0m\u001b[32mThere are no time gaps in the datasets.\n",
      "\u001b[0m\n",
      "\u001b[1m\u001b[32mTimestep Check passed: \u001b[0m\u001b[32mTimesteps are equivalent across all datasets.\n",
      "\u001b[0m\n",
      "\n"
     ]
    }
   ],
   "source": [
    "path = '/projects/dgs/persad_research/SIMULATION_DATA/ZARR/RAMIP/SIM_VARIABLES/'\n",
    "model = 'MRI-ESM2-0'\n",
    "\n",
    "# Gather all of the zarr files that start with the model name\n",
    "zarr_files = [path + f for f in os.listdir(path) if f.startswith(model)]\n",
    "\n",
    "check_model(zarr_files, verbose = True)"
   ]
  },
  {
   "cell_type": "markdown",
   "metadata": {},
   "source": [
    "## NorESM2-LM "
   ]
  },
  {
   "cell_type": "code",
   "execution_count": null,
   "metadata": {},
   "outputs": [
    {
     "name": "stdout",
     "output_type": "stream",
     "text": [
      "Checking 32 datasets: ['NorESM2-LM_ssp370-eas126aer_day_pr.zarr', 'NorESM2-LM_ssp370-afr126aer_day_tasmax.zarr', 'NorESM2-LM_ssp370-sas126aer_day_hurs.zarr', 'NorESM2-LM_ssp370-nae126aer_day_tasmax.zarr', 'NorESM2-LM_ssp370_day_pr.zarr', 'NorESM2-LM_ssp126_day_pr.zarr', 'NorESM2-LM_ssp370-afr126aer_day_pr.zarr', 'NorESM2-LM_ssp370-eas126aer_day_sfcWind.zarr', 'NorESM2-LM_historical_day_hurs.zarr', 'NorESM2-LM_ssp370-afr126aer_day_sfcWind.zarr', 'NorESM2-LM_ssp370_day_sfcWind.zarr', 'NorESM2-LM_ssp370-sas126aer_day_tasmax.zarr', 'NorESM2-LM_ssp370-nae126aer_day_sfcWind.zarr', 'NorESM2-LM_ssp126_day_hurs.zarr', 'NorESM2-LM_historical_day_sfcWind.zarr', 'NorESM2-LM_ssp370-sas126aer_day_pr.zarr', 'NorESM2-LM_ssp370-126aer_day_sfcWind.zarr', 'NorESM2-LM_ssp370-nae126aer_day_hurs.zarr', 'NorESM2-LM_ssp126_day_sfcWind.zarr', 'NorESM2-LM_ssp370-eas126aer_day_hurs.zarr', 'NorESM2-LM_ssp370-126aer_day_hurs.zarr', 'NorESM2-LM_ssp370-126aer_day_pr.zarr', 'NorESM2-LM_ssp126_day_tasmax.zarr', 'NorESM2-LM_ssp370-126aer_day_tasmax.zarr', 'NorESM2-LM_ssp370-sas126aer_day_sfcWind.zarr', 'NorESM2-LM_historical_day_pr.zarr', 'NorESM2-LM_ssp370_day_hurs.zarr', 'NorESM2-LM_historical_day_tasmax.zarr', 'NorESM2-LM_ssp370-nae126aer_day_pr.zarr', 'NorESM2-LM_ssp370-eas126aer_day_tasmax.zarr', 'NorESM2-LM_ssp370_day_tasmax.zarr', 'NorESM2-LM_ssp370-afr126aer_day_hurs.zarr']\n",
      "\n",
      "\n",
      "\n",
      "\n",
      "SUMMARY: 5/5 checks passed.\n",
      "=============================================================\n",
      "\u001b[1m\u001b[32mMonotonic Check passed: \u001b[0m\u001b[32mTime coordinates are strictly increasing.\n",
      "\u001b[0m\n",
      "\u001b[1m\u001b[32mCalendar Check passed: \u001b[0m\u001b[32mTime coordinates use the same calendar across all datasets.\n",
      "\u001b[0m\n",
      "\u001b[1m\u001b[32mSpatial Coord Check passed: \u001b[0m\u001b[32mSpatial coordinates are equivalent across all datasets.\n",
      "\u001b[0m\n",
      "\u001b[1m\u001b[32mTime Gaps Check passed: \u001b[0m\u001b[32mThere are no time gaps in the datasets.\n",
      "\u001b[0m\n",
      "\u001b[1m\u001b[32mTimestep Check passed: \u001b[0m\u001b[32mTimesteps are equivalent across all datasets.\n",
      "\u001b[0m\n",
      "\n"
     ]
    }
   ],
   "source": [
    "path = '/projects/dgs/persad_research/SIMULATION_DATA/ZARR/RAMIP/SIM_VARIABLES/'\n",
    "model = 'NorESM2-LM'\n",
    "\n",
    "# Gather all of the zarr files that start with the model name\n",
    "zarr_files = [path + f for f in os.listdir(path) if f.startswith(model)]\n",
    "\n",
    "check_model(zarr_files, verbose=True)"
   ]
  },
  {
   "cell_type": "markdown",
   "metadata": {},
   "source": [
    "## SPEAR "
   ]
  },
  {
   "cell_type": "code",
   "execution_count": null,
   "metadata": {},
   "outputs": [
    {
     "name": "stdout",
     "output_type": "stream",
     "text": [
      "Checking 2 datasets: ['SPEAR_ssp370-sas126aer_month_sw_div_clr.zarr', 'SPEAR_ssp370-nae126aer_month_lw_div_clr.zarr']\n",
      "\n",
      "\n"
     ]
    },
    {
     "ename": "AttributeError",
     "evalue": "'DataArray' object has no attribute 'to_datetimeindex'",
     "output_type": "error",
     "traceback": [
      "\u001b[0;31m---------------------------------------------------------------------------\u001b[0m",
      "\u001b[0;31mAttributeError\u001b[0m                            Traceback (most recent call last)",
      "Cell \u001b[0;32mIn[2], line 10\u001b[0m\n\u001b[1;32m      6\u001b[0m zarr_month_files \u001b[38;5;241m=\u001b[39m [path \u001b[38;5;241m+\u001b[39m f \u001b[38;5;28;01mfor\u001b[39;00m f \u001b[38;5;129;01min\u001b[39;00m os\u001b[38;5;241m.\u001b[39mlistdir(path) \u001b[38;5;28;01mif\u001b[39;00m f\u001b[38;5;241m.\u001b[39mstartswith(model) \u001b[38;5;129;01mand\u001b[39;00m \u001b[38;5;124m'\u001b[39m\u001b[38;5;124mmonth\u001b[39m\u001b[38;5;124m'\u001b[39m \u001b[38;5;129;01min\u001b[39;00m f]\n\u001b[1;32m      7\u001b[0m \u001b[38;5;66;03m# zarr_day_files = [path + f for f in os.listdir(path) if f.startswith(model) and 'day' in f]\u001b[39;00m\n\u001b[0;32m---> 10\u001b[0m \u001b[43mcheck_model\u001b[49m\u001b[43m(\u001b[49m\u001b[43mzarr_month_files\u001b[49m\u001b[43m[\u001b[49m\u001b[38;5;241;43m0\u001b[39;49m\u001b[43m:\u001b[49m\u001b[38;5;241;43m2\u001b[39;49m\u001b[43m]\u001b[49m\u001b[43m,\u001b[49m\u001b[43m \u001b[49m\u001b[38;5;28;43;01mTrue\u001b[39;49;00m\u001b[43m)\u001b[49m\n\u001b[1;32m     11\u001b[0m \u001b[38;5;66;03m# check_model(zarr_day_files, True)\u001b[39;00m\n",
      "File \u001b[0;32m~/RAMIP/tests/run_tests.py:24\u001b[0m, in \u001b[0;36mcheck_model\u001b[0;34m(paths, verbose)\u001b[0m\n\u001b[1;32m     23\u001b[0m \u001b[38;5;28;01mdef\u001b[39;00m \u001b[38;5;21mcheck_model\u001b[39m(paths: \u001b[38;5;28mlist\u001b[39m[\u001b[38;5;28mstr\u001b[39m], verbose: \u001b[38;5;28mbool\u001b[39m\u001b[38;5;241m=\u001b[39m\u001b[38;5;28;01mFalse\u001b[39;00m) \u001b[38;5;241m-\u001b[39m\u001b[38;5;241m>\u001b[39m \u001b[38;5;28;01mNone\u001b[39;00m:\n\u001b[0;32m---> 24\u001b[0m     \u001b[43mrun\u001b[49m\u001b[43m(\u001b[49m\u001b[43mpaths\u001b[49m\u001b[43m,\u001b[49m\u001b[43m \u001b[49m\u001b[43mcheck_variable_name\u001b[49m\u001b[38;5;241;43m=\u001b[39;49m\u001b[38;5;28;43;01mFalse\u001b[39;49;00m\u001b[43m,\u001b[49m\u001b[43m \u001b[49m\u001b[43mcheck_units\u001b[49m\u001b[38;5;241;43m=\u001b[39;49m\u001b[38;5;28;43;01mFalse\u001b[39;49;00m\u001b[43m,\u001b[49m\u001b[43m \u001b[49m\u001b[43mverbose\u001b[49m\u001b[38;5;241;43m=\u001b[39;49m\u001b[43mverbose\u001b[49m\u001b[43m)\u001b[49m\n",
      "File \u001b[0;32m~/RAMIP/tests/run_tests.py:64\u001b[0m, in \u001b[0;36mrun\u001b[0;34m(paths, verbose, check_monotonic, check_calendar, check_units, check_variable_name, check_spatial_coords, check_time_gaps, check_timestep)\u001b[0m\n\u001b[1;32m     62\u001b[0m     summary_msg \u001b[38;5;241m+\u001b[39m\u001b[38;5;241m=\u001b[39m test_spatial_coords(datasets, verbose, checks) \u001b[38;5;241m+\u001b[39m \u001b[38;5;124m\"\u001b[39m\u001b[38;5;130;01m\\n\u001b[39;00m\u001b[38;5;124m\"\u001b[39m\n\u001b[1;32m     63\u001b[0m \u001b[38;5;28;01mif\u001b[39;00m check_time_gaps:\n\u001b[0;32m---> 64\u001b[0m     summary_msg \u001b[38;5;241m+\u001b[39m\u001b[38;5;241m=\u001b[39m \u001b[43mtest_time_gaps\u001b[49m\u001b[43m(\u001b[49m\u001b[43mdatasets_with_time\u001b[49m\u001b[43m,\u001b[49m\u001b[43m \u001b[49m\u001b[43mverbose\u001b[49m\u001b[43m,\u001b[49m\u001b[43m \u001b[49m\u001b[43mchecks\u001b[49m\u001b[43m)\u001b[49m \u001b[38;5;241m+\u001b[39m \u001b[38;5;124m\"\u001b[39m\u001b[38;5;130;01m\\n\u001b[39;00m\u001b[38;5;124m\"\u001b[39m\n\u001b[1;32m     65\u001b[0m \u001b[38;5;28;01mif\u001b[39;00m check_timestep:\n\u001b[1;32m     66\u001b[0m     summary_msg \u001b[38;5;241m+\u001b[39m\u001b[38;5;241m=\u001b[39m test_timestep(datasets_with_time, verbose, checks) \u001b[38;5;241m+\u001b[39m \u001b[38;5;124m\"\u001b[39m\u001b[38;5;130;01m\\n\u001b[39;00m\u001b[38;5;124m\"\u001b[39m\n",
      "File \u001b[0;32m~/RAMIP/tests/test_time_gaps.py:45\u001b[0m, in \u001b[0;36mtest_time_gaps\u001b[0;34m(datasets, verbose, checks)\u001b[0m\n\u001b[1;32m     44\u001b[0m \u001b[38;5;28;01mdef\u001b[39;00m \u001b[38;5;21mtest_time_gaps\u001b[39m(datasets: \u001b[38;5;28mlist\u001b[39m, verbose \u001b[38;5;241m=\u001b[39m \u001b[38;5;28;01mFalse\u001b[39;00m, checks \u001b[38;5;241m=\u001b[39m \u001b[38;5;28;01mNone\u001b[39;00m) \u001b[38;5;241m-\u001b[39m\u001b[38;5;241m>\u001b[39m \u001b[38;5;28mstr\u001b[39m:\n\u001b[0;32m---> 45\u001b[0m     wrong_datasets \u001b[38;5;241m=\u001b[39m \u001b[43mfind_wrong_datasets\u001b[49m\u001b[43m(\u001b[49m\u001b[43mdatasets\u001b[49m\u001b[43m,\u001b[49m\u001b[43m \u001b[49m\u001b[43mcheck_time_gaps\u001b[49m\u001b[43m,\u001b[49m\u001b[43m \u001b[49m\u001b[43mverbose\u001b[49m\u001b[43m)\u001b[49m\n\u001b[1;32m     46\u001b[0m     msgs \u001b[38;5;241m=\u001b[39m [\u001b[38;5;124m\"\u001b[39m\u001b[38;5;124mThere exist time gaps in the datasets.\u001b[39m\u001b[38;5;124m\"\u001b[39m, \n\u001b[1;32m     47\u001b[0m             \u001b[38;5;124m\"\u001b[39m\u001b[38;5;124mThere are no time gaps in the datasets.\u001b[39m\u001b[38;5;124m\"\u001b[39m]\n\u001b[1;32m     48\u001b[0m     \u001b[38;5;28;01mreturn\u001b[39;00m get_indiv_check_msg(wrong_datasets, \u001b[38;5;124m\"\u001b[39m\u001b[38;5;124mTime Gaps Check\u001b[39m\u001b[38;5;124m\"\u001b[39m, msgs, checks, \u001b[38;5;28mlen\u001b[39m(datasets))\n",
      "File \u001b[0;32m~/RAMIP/tests/utils.py:116\u001b[0m, in \u001b[0;36mfind_wrong_datasets\u001b[0;34m(datasets, check, verbose)\u001b[0m\n\u001b[1;32m    114\u001b[0m wrong_datasets \u001b[38;5;241m=\u001b[39m []\n\u001b[1;32m    115\u001b[0m \u001b[38;5;28;01mfor\u001b[39;00m ds \u001b[38;5;129;01min\u001b[39;00m datasets:\n\u001b[0;32m--> 116\u001b[0m     \u001b[38;5;28;01mif\u001b[39;00m \u001b[38;5;129;01mnot\u001b[39;00m \u001b[43mcheck\u001b[49m\u001b[43m(\u001b[49m\u001b[43mds\u001b[49m\u001b[43m,\u001b[49m\u001b[43m \u001b[49m\u001b[43mverbose\u001b[49m\u001b[43m)\u001b[49m:\n\u001b[1;32m    117\u001b[0m         wrong_datasets\u001b[38;5;241m.\u001b[39mappend(ds)\n\u001b[1;32m    118\u001b[0m \u001b[38;5;28;01mreturn\u001b[39;00m wrong_datasets\n",
      "File \u001b[0;32m~/RAMIP/tests/test_time_gaps.py:27\u001b[0m, in \u001b[0;36mcheck_time_gaps\u001b[0;34m(ds, verbose)\u001b[0m\n\u001b[1;32m     26\u001b[0m \u001b[38;5;28;01mdef\u001b[39;00m \u001b[38;5;21mcheck_time_gaps\u001b[39m(ds: xr\u001b[38;5;241m.\u001b[39mDataset, verbose \u001b[38;5;241m=\u001b[39m \u001b[38;5;28;01mFalse\u001b[39;00m):\n\u001b[0;32m---> 27\u001b[0m     timedelta \u001b[38;5;241m=\u001b[39m \u001b[43mget_timedelta\u001b[49m\u001b[43m(\u001b[49m\u001b[43mds\u001b[49m\u001b[43m)\u001b[49m\n\u001b[1;32m     29\u001b[0m     gaps \u001b[38;5;241m=\u001b[39m find_gaps(ds, timedelta)\n\u001b[1;32m     31\u001b[0m     \u001b[38;5;28;01mif\u001b[39;00m verbose \u001b[38;5;129;01mand\u001b[39;00m \u001b[38;5;28mlen\u001b[39m(gaps) \u001b[38;5;241m>\u001b[39m \u001b[38;5;241m0\u001b[39m:\n",
      "File \u001b[0;32m~/RAMIP/tests/test_timestep.py:15\u001b[0m, in \u001b[0;36mget_timedelta\u001b[0;34m(ds)\u001b[0m\n\u001b[1;32m     10\u001b[0m \u001b[38;5;28;01mdef\u001b[39;00m \u001b[38;5;21mget_timedelta\u001b[39m(ds: xr\u001b[38;5;241m.\u001b[39mDataset):\n\u001b[1;32m     11\u001b[0m     \u001b[38;5;66;03m# For a dataset, return the timedelta that should be between each timestep \u001b[39;00m\n\u001b[1;32m     12\u001b[0m     \u001b[38;5;66;03m# For example, if it's daily data, return 1 day\u001b[39;00m\n\u001b[1;32m     13\u001b[0m \n\u001b[1;32m     14\u001b[0m     \u001b[38;5;66;03m# Find the most common timedelta between timesteps\u001b[39;00m\n\u001b[0;32m---> 15\u001b[0m     times \u001b[38;5;241m=\u001b[39m \u001b[43mds\u001b[49m\u001b[38;5;241;43m.\u001b[39;49m\u001b[43mtime\u001b[49m\u001b[38;5;241;43m.\u001b[39;49m\u001b[43mto_datetimeindex\u001b[49m()  \u001b[38;5;66;03m#.diff().to_series()\u001b[39;00m\n\u001b[1;32m     17\u001b[0m     stuff \u001b[38;5;241m=\u001b[39m pd\u001b[38;5;241m.\u001b[39mDatetimeIndex(times, freq \u001b[38;5;241m=\u001b[39m \u001b[38;5;124m'\u001b[39m\u001b[38;5;124minfer\u001b[39m\u001b[38;5;124m'\u001b[39m)\n\u001b[1;32m     19\u001b[0m     \u001b[38;5;28mprint\u001b[39m(stuff\u001b[38;5;241m.\u001b[39minferred_freq)\n",
      "File \u001b[0;32m/home/jupyterhub/miniconda-persad/envs/lab/lib/python3.12/site-packages/xarray/core/common.py:302\u001b[0m, in \u001b[0;36mAttrAccessMixin.__getattr__\u001b[0;34m(self, name)\u001b[0m\n\u001b[1;32m    300\u001b[0m         \u001b[38;5;28;01mwith\u001b[39;00m suppress(\u001b[38;5;167;01mKeyError\u001b[39;00m):\n\u001b[1;32m    301\u001b[0m             \u001b[38;5;28;01mreturn\u001b[39;00m source[name]\n\u001b[0;32m--> 302\u001b[0m \u001b[38;5;28;01mraise\u001b[39;00m \u001b[38;5;167;01mAttributeError\u001b[39;00m(\n\u001b[1;32m    303\u001b[0m     \u001b[38;5;124mf\u001b[39m\u001b[38;5;124m\"\u001b[39m\u001b[38;5;132;01m{\u001b[39;00m\u001b[38;5;28mtype\u001b[39m(\u001b[38;5;28mself\u001b[39m)\u001b[38;5;241m.\u001b[39m\u001b[38;5;18m__name__\u001b[39m\u001b[38;5;132;01m!r}\u001b[39;00m\u001b[38;5;124m object has no attribute \u001b[39m\u001b[38;5;132;01m{\u001b[39;00mname\u001b[38;5;132;01m!r}\u001b[39;00m\u001b[38;5;124m\"\u001b[39m\n\u001b[1;32m    304\u001b[0m )\n",
      "\u001b[0;31mAttributeError\u001b[0m: 'DataArray' object has no attribute 'to_datetimeindex'"
     ]
    }
   ],
   "source": [
    "path = '/projects/dgs/persad_research/SIMULATION_DATA/ZARR/RAMIP/SIM_VARIABLES/'\n",
    "model = 'SPEAR'\n",
    "\n",
    "# Gather all of the zarr files that start with the model name\n",
    "# For SPEAR, we have MONTH data and DAY data, so we need to handle those separately \n",
    "zarr_month_files = [path + f for f in os.listdir(path) if f.startswith(model) and 'month' in f]\n",
    "# zarr_day_files = [path + f for f in os.listdir(path) if f.startswith(model) and 'day' in f]\n",
    "\n",
    "\n",
    "check_model(zarr_month_files[0:2], True)\n",
    "# check_model(zarr_day_files, True)\n",
    "\n"
   ]
  },
  {
   "cell_type": "markdown",
   "metadata": {},
   "source": [
    "# Test Within Variables"
   ]
  },
  {
   "cell_type": "code",
   "execution_count": null,
   "metadata": {},
   "outputs": [
    {
     "name": "stdout",
     "output_type": "stream",
     "text": [
      "['/projects/dgs/persad_research/SIMULATION_DATA/ZARR/RAMIP/SIM_VARIABLES/NorESM2-LM_ssp370-sas126aer_day_hurs.zarr', '/projects/dgs/persad_research/SIMULATION_DATA/ZARR/RAMIP/SIM_VARIABLES/SPEAR_ssp370-nae126aer_day_hurs.zarr', '/projects/dgs/persad_research/SIMULATION_DATA/ZARR/RAMIP/SIM_VARIABLES/SPEAR_ssp370-eas126aer_day_hurs.zarr', '/projects/dgs/persad_research/SIMULATION_DATA/ZARR/RAMIP/SIM_VARIABLES/CESM2_ssp126_day_hurs.zarr', '/projects/dgs/persad_research/SIMULATION_DATA/ZARR/RAMIP/SIM_VARIABLES/NorESM2-LM_historical_day_hurs.zarr', '/projects/dgs/persad_research/SIMULATION_DATA/ZARR/RAMIP/SIM_VARIABLES/CanESM5-1_ssp370_day_hurs.zarr', '/projects/dgs/persad_research/SIMULATION_DATA/ZARR/RAMIP/SIM_VARIABLES/NorESM2-LM_ssp126_day_hurs.zarr', '/projects/dgs/persad_research/SIMULATION_DATA/ZARR/RAMIP/SIM_VARIABLES/CESM2_ssp370-sas126aer_day_hurs.zarr', '/projects/dgs/persad_research/SIMULATION_DATA/ZARR/RAMIP/SIM_VARIABLES/SPEAR_ssp370-afr126aer_day_hurs.zarr', '/projects/dgs/persad_research/SIMULATION_DATA/ZARR/RAMIP/SIM_VARIABLES/SPEAR_ssp370_day_hurs.zarr', '/projects/dgs/persad_research/SIMULATION_DATA/ZARR/RAMIP/SIM_VARIABLES/CanESM5-1_ssp370-sas126aer_day_hurs.zarr', '/projects/dgs/persad_research/SIMULATION_DATA/ZARR/RAMIP/SIM_VARIABLES/CESM2_ssp370-afr126aer_day_hurs.zarr', '/projects/dgs/persad_research/SIMULATION_DATA/ZARR/RAMIP/SIM_VARIABLES/SPEAR_ssp370-sas126aer_day_hurs.zarr', '/projects/dgs/persad_research/SIMULATION_DATA/ZARR/RAMIP/SIM_VARIABLES/EC-Earth3-AerChem_ssp370_day_hurs.zarr', '/projects/dgs/persad_research/SIMULATION_DATA/ZARR/RAMIP/SIM_VARIABLES/CanESM5-1_ssp370-126aer_day_hurs.zarr', '/projects/dgs/persad_research/SIMULATION_DATA/ZARR/RAMIP/SIM_VARIABLES/NorESM2-LM_ssp370-nae126aer_day_hurs.zarr', '/projects/dgs/persad_research/SIMULATION_DATA/ZARR/RAMIP/SIM_VARIABLES/MRI-ESM2-0_ssp370_day_hurs.zarr', '/projects/dgs/persad_research/SIMULATION_DATA/ZARR/RAMIP/SIM_VARIABLES/SPEAR_historical_day_hurs.zarr', '/projects/dgs/persad_research/SIMULATION_DATA/ZARR/RAMIP/SIM_VARIABLES/NorESM2-LM_ssp370-eas126aer_day_hurs.zarr', '/projects/dgs/persad_research/SIMULATION_DATA/ZARR/RAMIP/SIM_VARIABLES/NorESM2-LM_ssp370-126aer_day_hurs.zarr', '/projects/dgs/persad_research/SIMULATION_DATA/ZARR/RAMIP/SIM_VARIABLES/CESM2_ssp370_day_hurs.zarr', '/projects/dgs/persad_research/SIMULATION_DATA/ZARR/RAMIP/SIM_VARIABLES/SPEAR_ssp370-126aer_day_hurs.zarr', '/projects/dgs/persad_research/SIMULATION_DATA/ZARR/RAMIP/SIM_VARIABLES/CESM2_ssp370-eas126aer_day_hurs.zarr', '/projects/dgs/persad_research/SIMULATION_DATA/ZARR/RAMIP/SIM_VARIABLES/CanESM5-1_ssp370-eas126aer_day_hurs.zarr', '/projects/dgs/persad_research/SIMULATION_DATA/ZARR/RAMIP/SIM_VARIABLES/CESM2_historical_day_hurs.zarr', '/projects/dgs/persad_research/SIMULATION_DATA/ZARR/RAMIP/SIM_VARIABLES/NorESM2-LM_ssp370_day_hurs.zarr', '/projects/dgs/persad_research/SIMULATION_DATA/ZARR/RAMIP/SIM_VARIABLES/SPEAR_ssp126_day_hurs.zarr', '/projects/dgs/persad_research/SIMULATION_DATA/ZARR/RAMIP/SIM_VARIABLES/CESM2_ssp370-nae126aer_day_hurs.zarr', '/projects/dgs/persad_research/SIMULATION_DATA/ZARR/RAMIP/SIM_VARIABLES/CESM2_ssp370-126aer_day_hurs.zarr', '/projects/dgs/persad_research/SIMULATION_DATA/ZARR/RAMIP/SIM_VARIABLES/NorESM2-LM_ssp370-afr126aer_day_hurs.zarr']\n",
      "\n",
      "\n",
      "SUMMARY: 0/5 checks passed.\n",
      "=============================================================\n",
      "\u001b[1m\u001b[31mMonotonic Check failed: \u001b[0m\u001b[31mTime coordinates are not monotonic. The following datasets (1/30) are different from the majority opinion: ['NorESM2-LM_ssp126_day_hurs.zarr']\n",
      "\u001b[0m\u001b[1m\u001b[31mCalendar Check failed: \u001b[0m\u001b[31mTime coordinates do not use the same calendar across all datasets. The following datasets (6/30) are different from the majority opinion: ['CanESM5-1_ssp370_day_hurs.zarr', 'CanESM5-1_ssp370-sas126aer_day_hurs.zarr', 'EC-Earth3-AerChem_ssp370_day_hurs.zarr', 'CanESM5-1_ssp370-126aer_day_hurs.zarr', 'MRI-ESM2-0_ssp370_day_hurs.zarr', 'CanESM5-1_ssp370-eas126aer_day_hurs.zarr']\n",
      "\u001b[0m\u001b[1m\u001b[31mUnits Check failed: \u001b[0m\u001b[31mUnits are not equivalent across all datasets. The following datasets (9/30) are different from the majority opinion: ['SPEAR_ssp370-nae126aer_day_hurs.zarr', 'SPEAR_ssp370-eas126aer_day_hurs.zarr', 'SPEAR_ssp370-afr126aer_day_hurs.zarr', 'SPEAR_ssp370_day_hurs.zarr', 'SPEAR_ssp370-sas126aer_day_hurs.zarr', 'SPEAR_historical_day_hurs.zarr', 'SPEAR_ssp370-126aer_day_hurs.zarr', 'CESM2_historical_day_hurs.zarr', 'SPEAR_ssp126_day_hurs.zarr']\n",
      "\u001b[0m\u001b[1m\u001b[31mVar Name Check failed: \u001b[0m\u001b[31mVariables do not have the same name across all datasets. The following datasets (9/30) are different from the majority opinion: ['SPEAR_ssp370-nae126aer_day_hurs.zarr', 'SPEAR_ssp370-eas126aer_day_hurs.zarr', 'SPEAR_ssp370-afr126aer_day_hurs.zarr', 'SPEAR_ssp370_day_hurs.zarr', 'SPEAR_ssp370-sas126aer_day_hurs.zarr', 'SPEAR_historical_day_hurs.zarr', 'SPEAR_ssp370-126aer_day_hurs.zarr', 'CESM2_historical_day_hurs.zarr', 'SPEAR_ssp126_day_hurs.zarr']\n",
      "\u001b[0m\u001b[1m\u001b[31mSpatial Coord Check failed: \u001b[0m\u001b[31mSpatial coordinates are not equivalent across all datasets. A majority of them are different from each other.\n",
      "\u001b[0m\n",
      "If you would like more information on why the checks failed, run the function with the verbose flag set to True. To avoid this output becoming too long, we would recommend running the function with just two files at a time.\n"
     ]
    }
   ],
   "source": [
    "path = '/projects/dgs/persad_research/SIMULATION_DATA/ZARR/RAMIP/SIM_VARIABLES/'\n",
    "variable = 'hurs'\n",
    "\n",
    "# Gather all the zarr files that include the variable name\n",
    "zarr_files = [path + f for f in os.listdir(path) if variable in f]\n",
    "print(zarr_files)\n",
    "run(zarr_files)"
   ]
  }
 ],
 "metadata": {
  "kernelspec": {
   "display_name": "lab",
   "language": "python",
   "name": "python3"
  },
  "language_info": {
   "codemirror_mode": {
    "name": "ipython",
    "version": 3
   },
   "file_extension": ".py",
   "mimetype": "text/x-python",
   "name": "python",
   "nbconvert_exporter": "python",
   "pygments_lexer": "ipython3",
   "version": "3.12.7"
  }
 },
 "nbformat": 4,
 "nbformat_minor": 4
}
