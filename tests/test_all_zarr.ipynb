{
 "cells": [
  {
   "cell_type": "code",
   "execution_count": 1,
   "metadata": {},
   "outputs": [],
   "source": [
    "from run_tests import run, check_model\n",
    "import os"
   ]
  },
  {
   "cell_type": "markdown",
   "metadata": {},
   "source": [
    "# Testing Within A Model\n",
    "\n",
    "First we're going to check if all the things that should be consistent within a *model's* ZARR stores are consistent. "
   ]
  },
  {
   "cell_type": "code",
   "execution_count": 2,
   "metadata": {},
   "outputs": [
    {
     "name": "stdout",
     "output_type": "stream",
     "text": [
      "\n",
      "\n",
      "SUMMARY: 1/3 checks passed.\n",
      "=============================================================\n",
      "WARNING: The following datasets do not have a time dimension and will not be checked for monotonicity or correct calendar encoding: ['CESM2_historical_hurs_annual_map_1983_1990.zarr', 'CESM2_historical_tasmax_annual_map_1983_1990.zarr']\n",
      "\n",
      "\u001b[1m\u001b[32mMonotonic Check passed: \u001b[0m\u001b[32mTime coordinates are monotonic.\n",
      "\u001b[0m\u001b[1m\u001b[31mCalendar Check failed: \u001b[0m\u001b[31mTime coordinates do not use the same calendar across all datasets. The following datasets (18/54) are different from the majority opinion: ['CESM2_ssp370-126aer_day_sfcWind.zarr', 'CESM2_historical_day_sfcWind.zarr', 'CESM2_historical_day_tasmax.zarr', 'CESM2_historical_hurs_annual_masked_lineplot.zarr', 'CESM2_historical_sfcWind_annual_masked_lineplot.zarr', 'CESM2_ssp370_sfcWind_annual_masked_lineplot.zarr', 'CESM2_historical_tasmax_annual_masked_lineplot.zarr', 'CESM2_ssp370_pr_annual_masked_lineplot.zarr', 'CESM2_ssp370-126aer_pr_annual_masked_lineplot.zarr', 'CESM2_historical_pr_annual_masked_lineplot.zarr', 'CESM2_ssp370-126aer_tasmax_annual_masked_lineplot.zarr', 'CESM2_historical_day_pr.zarr', 'CESM2_ssp370_tasmax_annual_masked_lineplot.zarr', 'CESM2_ssp370-126aer_sfcWind_annual_masked_lineplot.zarr', 'CESM2_historical_day_hurs.zarr', 'CESM2_ssp370-126aer_hurs_annual_masked_lineplot.zarr', 'CESM2_ssp370_day_sfcWind.zarr', 'CESM2_ssp370_hurs_annual_masked_lineplot.zarr']\n",
      "\u001b[0m\u001b[1m\u001b[31mSpatial Coord Check failed: \u001b[0m\u001b[31mSpatial coordinates are not equivalent across all datasets. The following datasets (21/56) are different from the majority opinion: ['CESM2_historical_day_sfcWind.zarr', 'CESM2_historical_day_tasmax.zarr', 'CESM2_historical_hurs_annual_masked_lineplot.zarr', 'CESM2_historical_hurs_annual_map_1983_1990.zarr', 'CESM2_historical_sfcWind_annual_masked_lineplot.zarr', 'CESM2_ssp370_sfcWind_annual_masked_lineplot.zarr', 'CESM2_historical_tasmax_annual_masked_lineplot.zarr', 'CESM2_ssp370_pr_annual_masked_lineplot.zarr', 'CESM2_ssp370-126aer_pr_annual_masked_lineplot.zarr', 'CESM2_historical_pr_annual_masked_lineplot.zarr', 'CESM2_historical_tasmax_annual_map_1983_1990.zarr', 'CESM2_ssp370-126aer_tasmax_annual_masked_lineplot.zarr', 'CESM2_ssp370_corrected_day_tasmax.zarr', 'CESM2_historical_day_pr.zarr', 'CESM2_ssp370_tasmax_annual_masked_lineplot.zarr', 'CESM2_ssp370-126aer_sfcWind_annual_masked_lineplot.zarr', 'CESM2_historical_day_hurs.zarr', 'CESM2_ssp370-126aer_hurs_annual_masked_lineplot.zarr', 'CESM2_ssp370_day_sfcWind.zarr', 'CESM2_ssp370_day_tas.zarr', 'CESM2_ssp370_hurs_annual_masked_lineplot.zarr']\n",
      "\u001b[0m\n",
      "If you would like more information on why the checks failed, run the function with the verbose flag set to True. To avoid this output becoming too long, we would recommend running the function with just two files at a time.\n"
     ]
    }
   ],
   "source": [
    "path = '/projects/dgs/persad_research/SIMULATION_DATA/ZARR/RAMIP/SIM_VARIABLES/'\n",
    "model = 'CESM2'\n",
    "\n",
    "# Gather all of the zarr files that start with the model name\n",
    "zarr_files = [path + f for f in os.listdir(path) if f.startswith(model)]\n",
    "\n",
    "check_model(zarr_files)"
   ]
  },
  {
   "cell_type": "code",
   "execution_count": 3,
   "metadata": {},
   "outputs": [
    {
     "name": "stdout",
     "output_type": "stream",
     "text": [
      "\n",
      "\n",
      "SUMMARY: 2/3 checks passed.\n",
      "=============================================================\n",
      "WARNING: The following datasets do not have a time dimension and will not be checked for monotonicity or correct calendar encoding: ['MRI-ESM2-0_ssp126_day_hurs.zarr']\n",
      "\n",
      "\u001b[1m\u001b[32mMonotonic Check passed: \u001b[0m\u001b[32mTime coordinates are monotonic.\n",
      "\u001b[0m\u001b[1m\u001b[32mCalendar Check passed: \u001b[0m\u001b[32mTime coordinates use the same calendar across all datasets.\n",
      "\u001b[0m\u001b[1m\u001b[31mSpatial Coord Check failed: \u001b[0m\u001b[31mSpatial coordinates are not equivalent across all datasets. The following datasets (1/5) are different from the majority opinion: ['MRI-ESM2-0_ssp126_day_hurs.zarr']\n",
      "\u001b[0m\n",
      "If you would like more information on why the checks failed, run the function with the verbose flag set to True. To avoid this output becoming too long, we would recommend running the function with just two files at a time.\n"
     ]
    },
    {
     "name": "stderr",
     "output_type": "stream",
     "text": [
      "/home/jupyterhub/miniconda-persad/envs/lab/lib/python3.12/site-packages/xarray/backends/zarr.py:1103: RuntimeWarning: Failed to open Zarr store with consolidated metadata, but successfully read with non-consolidated metadata. This is typically much slower for opening a dataset. To silence this warning, consider:\n",
      "1. Consolidating metadata in this existing store with zarr.consolidate_metadata().\n",
      "2. Explicitly setting consolidated=False, to avoid trying to read consolidate metadata, or\n",
      "3. Explicitly setting consolidated=True, to raise an error in this case instead of falling back to try reading non-consolidated metadata.\n",
      "  ds = open_dataset(\n"
     ]
    }
   ],
   "source": [
    "path = '/projects/dgs/persad_research/SIMULATION_DATA/ZARR/RAMIP/SIM_VARIABLES/'\n",
    "model = 'MRI-ESM2-0'\n",
    "\n",
    "# Gather all of the zarr files that start with the model name\n",
    "zarr_files = [path + f for f in os.listdir(path) if f.startswith(model)]\n",
    "\n",
    "check_model(zarr_files)"
   ]
  },
  {
   "cell_type": "code",
   "execution_count": 4,
   "metadata": {},
   "outputs": [
    {
     "name": "stdout",
     "output_type": "stream",
     "text": [
      "\n",
      "\n",
      "SUMMARY: 2/3 checks passed.\n",
      "=============================================================\n",
      "\u001b[1m\u001b[31mMonotonic Check failed: \u001b[0m\u001b[31mTime coordinates are not monotonic. The following datasets (4/32) are different from the majority opinion: ['NorESM2-LM_ssp126_day_pr.zarr', 'NorESM2-LM_ssp126_day_hurs.zarr', 'NorESM2-LM_ssp126_day_sfcWind.zarr', 'NorESM2-LM_ssp126_day_tasmax.zarr']\n",
      "\u001b[0m\u001b[1m\u001b[32mCalendar Check passed: \u001b[0m\u001b[32mTime coordinates use the same calendar across all datasets.\n",
      "\u001b[0m\u001b[1m\u001b[32mSpatial Coord Check passed: \u001b[0m\u001b[32mSpatial coordinates are equivalent across all datasets.\n",
      "\u001b[0m\n",
      "If you would like more information on why the checks failed, run the function with the verbose flag set to True. To avoid this output becoming too long, we would recommend running the function with just two files at a time.\n"
     ]
    }
   ],
   "source": [
    "path = '/projects/dgs/persad_research/SIMULATION_DATA/ZARR/RAMIP/SIM_VARIABLES/'\n",
    "model = 'NorESM2-LM'\n",
    "\n",
    "# Gather all of the zarr files that start with the model name\n",
    "zarr_files = [path + f for f in os.listdir(path) if f.startswith(model)]\n",
    "\n",
    "check_model(zarr_files)"
   ]
  },
  {
   "cell_type": "code",
   "execution_count": 5,
   "metadata": {},
   "outputs": [
    {
     "name": "stdout",
     "output_type": "stream",
     "text": [
      "\n",
      "\n",
      "SUMMARY: 3/3 checks passed.\n",
      "=============================================================\n",
      "\u001b[1m\u001b[32mMonotonic Check passed: \u001b[0m\u001b[32mTime coordinates are monotonic.\n",
      "\u001b[0m\u001b[1m\u001b[32mCalendar Check passed: \u001b[0m\u001b[32mTime coordinates use the same calendar across all datasets.\n",
      "\u001b[0m\u001b[1m\u001b[32mSpatial Coord Check passed: \u001b[0m\u001b[32mSpatial coordinates are equivalent across all datasets.\n",
      "\u001b[0m\n"
     ]
    }
   ],
   "source": [
    "path = '/projects/dgs/persad_research/SIMULATION_DATA/ZARR/RAMIP/SIM_VARIABLES/'\n",
    "model = 'SPEAR'\n",
    "\n",
    "# Gather all of the zarr files that start with the model name\n",
    "zarr_files = [path + f for f in os.listdir(path) if f.startswith(model)]\n",
    "\n",
    "check_model(zarr_files)"
   ]
  },
  {
   "cell_type": "markdown",
   "metadata": {},
   "source": [
    "# Test Within Variables"
   ]
  },
  {
   "cell_type": "code",
   "execution_count": 2,
   "metadata": {},
   "outputs": [
    {
     "name": "stdout",
     "output_type": "stream",
     "text": [
      "['/projects/dgs/persad_research/SIMULATION_DATA/ZARR/RAMIP/SIM_VARIABLES/MRI-ESM2-0_ssp126_day_hurs.zarr', '/projects/dgs/persad_research/SIMULATION_DATA/ZARR/RAMIP/SIM_VARIABLES/NorESM2-LM_ssp370-sas126aer_day_hurs.zarr', '/projects/dgs/persad_research/SIMULATION_DATA/ZARR/RAMIP/SIM_VARIABLES/SPEAR_ssp370-nae126aer_day_hurs.zarr', '/projects/dgs/persad_research/SIMULATION_DATA/ZARR/RAMIP/SIM_VARIABLES/SPEAR_ssp370-eas126aer_day_hurs.zarr', '/projects/dgs/persad_research/SIMULATION_DATA/ZARR/RAMIP/SIM_VARIABLES/CESM2_ssp126_day_hurs.zarr', '/projects/dgs/persad_research/SIMULATION_DATA/ZARR/RAMIP/SIM_VARIABLES/NorESM2-LM_historical_day_hurs.zarr', '/projects/dgs/persad_research/SIMULATION_DATA/ZARR/RAMIP/SIM_VARIABLES/CanESM5-1_ssp370_day_hurs.zarr', '/projects/dgs/persad_research/SIMULATION_DATA/ZARR/RAMIP/SIM_VARIABLES/MRI-ESM2-0_ssp370-sas126aer_day_hurs.zarr', '/projects/dgs/persad_research/SIMULATION_DATA/ZARR/RAMIP/SIM_VARIABLES/NorESM2-LM_ssp126_day_hurs.zarr', '/projects/dgs/persad_research/SIMULATION_DATA/ZARR/RAMIP/SIM_VARIABLES/CESM2_ssp370-sas126aer_day_hurs.zarr', '/projects/dgs/persad_research/SIMULATION_DATA/ZARR/RAMIP/SIM_VARIABLES/SPEAR_ssp370-afr126aer_day_hurs.zarr', '/projects/dgs/persad_research/SIMULATION_DATA/ZARR/RAMIP/SIM_VARIABLES/SPEAR_ssp370_day_hurs.zarr', '/projects/dgs/persad_research/SIMULATION_DATA/ZARR/RAMIP/SIM_VARIABLES/CanESM5-1_ssp370-sas126aer_day_hurs.zarr', '/projects/dgs/persad_research/SIMULATION_DATA/ZARR/RAMIP/SIM_VARIABLES/CESM2_ssp370-afr126aer_day_hurs.zarr', '/projects/dgs/persad_research/SIMULATION_DATA/ZARR/RAMIP/SIM_VARIABLES/SPEAR_ssp370-sas126aer_day_hurs.zarr', '/projects/dgs/persad_research/SIMULATION_DATA/ZARR/RAMIP/SIM_VARIABLES/EC-Earth3-AerChem_ssp370_day_hurs.zarr', '/projects/dgs/persad_research/SIMULATION_DATA/ZARR/RAMIP/SIM_VARIABLES/CanESM5-1_ssp370-126aer_day_hurs.zarr', '/projects/dgs/persad_research/SIMULATION_DATA/ZARR/RAMIP/SIM_VARIABLES/NorESM2-LM_ssp370-nae126aer_day_hurs.zarr', '/projects/dgs/persad_research/SIMULATION_DATA/ZARR/RAMIP/SIM_VARIABLES/MRI-ESM2-0_ssp370_day_hurs.zarr', '/projects/dgs/persad_research/SIMULATION_DATA/ZARR/RAMIP/SIM_VARIABLES/SPEAR_historical_day_hurs.zarr', '/projects/dgs/persad_research/SIMULATION_DATA/ZARR/RAMIP/SIM_VARIABLES/MRI-ESM2-0_ssp370-afr126aer_day_hurs.zarr', '/projects/dgs/persad_research/SIMULATION_DATA/ZARR/RAMIP/SIM_VARIABLES/MRI-ESM2-0_historical_day_hurs.zarr', '/projects/dgs/persad_research/SIMULATION_DATA/ZARR/RAMIP/SIM_VARIABLES/NorESM2-LM_ssp370-eas126aer_day_hurs.zarr', '/projects/dgs/persad_research/SIMULATION_DATA/ZARR/RAMIP/SIM_VARIABLES/NorESM2-LM_ssp370-126aer_day_hurs.zarr', '/projects/dgs/persad_research/SIMULATION_DATA/ZARR/RAMIP/SIM_VARIABLES/CESM2_ssp370_day_hurs.zarr', '/projects/dgs/persad_research/SIMULATION_DATA/ZARR/RAMIP/SIM_VARIABLES/SPEAR_ssp370-126aer_day_hurs.zarr', '/projects/dgs/persad_research/SIMULATION_DATA/ZARR/RAMIP/SIM_VARIABLES/CESM2_ssp370-eas126aer_day_hurs.zarr', '/projects/dgs/persad_research/SIMULATION_DATA/ZARR/RAMIP/SIM_VARIABLES/CanESM5-1_ssp370-eas126aer_day_hurs.zarr', '/projects/dgs/persad_research/SIMULATION_DATA/ZARR/RAMIP/SIM_VARIABLES/CESM2_historical_day_hurs.zarr', '/projects/dgs/persad_research/SIMULATION_DATA/ZARR/RAMIP/SIM_VARIABLES/MRI-ESM2-0_ssp370-nae126aer_day_hurs.zarr', '/projects/dgs/persad_research/SIMULATION_DATA/ZARR/RAMIP/SIM_VARIABLES/NorESM2-LM_ssp370_day_hurs.zarr', '/projects/dgs/persad_research/SIMULATION_DATA/ZARR/RAMIP/SIM_VARIABLES/SPEAR_ssp126_day_hurs.zarr', '/projects/dgs/persad_research/SIMULATION_DATA/ZARR/RAMIP/SIM_VARIABLES/MRI-ESM2-0_ssp370-eas126aer_day_hurs.zarr', '/projects/dgs/persad_research/SIMULATION_DATA/ZARR/RAMIP/SIM_VARIABLES/MRI-ESM2-0_ssp370-126aer_day_hurs.zarr', '/projects/dgs/persad_research/SIMULATION_DATA/ZARR/RAMIP/SIM_VARIABLES/CESM2_ssp370-nae126aer_day_hurs.zarr', '/projects/dgs/persad_research/SIMULATION_DATA/ZARR/RAMIP/SIM_VARIABLES/CESM2_ssp370-126aer_day_hurs.zarr', '/projects/dgs/persad_research/SIMULATION_DATA/ZARR/RAMIP/SIM_VARIABLES/NorESM2-LM_ssp370-afr126aer_day_hurs.zarr']\n"
     ]
    },
    {
     "name": "stderr",
     "output_type": "stream",
     "text": [
      "/home/jupyterhub/miniconda-persad/envs/lab/lib/python3.12/site-packages/xarray/backends/zarr.py:1103: RuntimeWarning: Failed to open Zarr store with consolidated metadata, but successfully read with non-consolidated metadata. This is typically much slower for opening a dataset. To silence this warning, consider:\n",
      "1. Consolidating metadata in this existing store with zarr.consolidate_metadata().\n",
      "2. Explicitly setting consolidated=False, to avoid trying to read consolidate metadata, or\n",
      "3. Explicitly setting consolidated=True, to raise an error in this case instead of falling back to try reading non-consolidated metadata.\n",
      "  ds = open_dataset(\n"
     ]
    },
    {
     "name": "stdout",
     "output_type": "stream",
     "text": [
      "\n",
      "\n",
      "SUMMARY: 0/5 checks passed.\n",
      "=============================================================\n",
      "WARNING: The following datasets do not have a time dimension and will not be checked for monotonicity or correct calendar encoding: ['MRI-ESM2-0_ssp126_day_hurs.zarr']\n",
      "\n",
      "\u001b[1m\u001b[31mMonotonic Check failed: \u001b[0m\u001b[31mTime coordinates are not monotonic. The following datasets (1/36) are different from the majority opinion: ['NorESM2-LM_ssp126_day_hurs.zarr']\n",
      "\u001b[0m\u001b[1m\u001b[31mCalendar Check failed: \u001b[0m\u001b[31mTime coordinates do not use the same calendar across all datasets. The following datasets (12/36) are different from the majority opinion: ['CanESM5-1_ssp370_day_hurs.zarr', 'MRI-ESM2-0_ssp370-sas126aer_day_hurs.zarr', 'CanESM5-1_ssp370-sas126aer_day_hurs.zarr', 'EC-Earth3-AerChem_ssp370_day_hurs.zarr', 'CanESM5-1_ssp370-126aer_day_hurs.zarr', 'MRI-ESM2-0_ssp370_day_hurs.zarr', 'MRI-ESM2-0_ssp370-afr126aer_day_hurs.zarr', 'MRI-ESM2-0_historical_day_hurs.zarr', 'CanESM5-1_ssp370-eas126aer_day_hurs.zarr', 'MRI-ESM2-0_ssp370-nae126aer_day_hurs.zarr', 'MRI-ESM2-0_ssp370-eas126aer_day_hurs.zarr', 'MRI-ESM2-0_ssp370-126aer_day_hurs.zarr']\n",
      "\u001b[0m\u001b[1m\u001b[31mUnits Check failed: \u001b[0m\u001b[31mUnits are not equivalent across all datasets. The following datasets (10/37) are different from the majority opinion: ['MRI-ESM2-0_ssp126_day_hurs.zarr', 'SPEAR_ssp370-nae126aer_day_hurs.zarr', 'SPEAR_ssp370-eas126aer_day_hurs.zarr', 'SPEAR_ssp370-afr126aer_day_hurs.zarr', 'SPEAR_ssp370_day_hurs.zarr', 'SPEAR_ssp370-sas126aer_day_hurs.zarr', 'SPEAR_historical_day_hurs.zarr', 'SPEAR_ssp370-126aer_day_hurs.zarr', 'CESM2_historical_day_hurs.zarr', 'SPEAR_ssp126_day_hurs.zarr']\n",
      "\u001b[0m\u001b[1m\u001b[31mVar Name Check failed: \u001b[0m\u001b[31mVariables do not have the same name across all datasets. The following datasets (10/37) are different from the majority opinion: ['MRI-ESM2-0_ssp126_day_hurs.zarr', 'SPEAR_ssp370-nae126aer_day_hurs.zarr', 'SPEAR_ssp370-eas126aer_day_hurs.zarr', 'SPEAR_ssp370-afr126aer_day_hurs.zarr', 'SPEAR_ssp370_day_hurs.zarr', 'SPEAR_ssp370-sas126aer_day_hurs.zarr', 'SPEAR_historical_day_hurs.zarr', 'SPEAR_ssp370-126aer_day_hurs.zarr', 'CESM2_historical_day_hurs.zarr', 'SPEAR_ssp126_day_hurs.zarr']\n",
      "\u001b[0m\u001b[1m\u001b[31mSpatial Coord Check failed: \u001b[0m\u001b[31mSpatial coordinates are not equivalent across all datasets. A majority of them are different from each other.\n",
      "\u001b[0m\n",
      "If you would like more information on why the checks failed, run the function with the verbose flag set to True. To avoid this output becoming too long, we would recommend running the function with just two files at a time.\n"
     ]
    }
   ],
   "source": [
    "path = '/projects/dgs/persad_research/SIMULATION_DATA/ZARR/RAMIP/SIM_VARIABLES/'\n",
    "variable = 'hurs'\n",
    "\n",
    "# Gather all the zarr files that include the variable name\n",
    "zarr_files = [path + f for f in os.listdir(path) if variable in f]\n",
    "print(zarr_files)\n",
    "run(zarr_files)"
   ]
  },
  {
   "cell_type": "code",
   "execution_count": null,
   "metadata": {},
   "outputs": [],
   "source": []
  }
 ],
 "metadata": {
  "kernelspec": {
   "display_name": "lab",
   "language": "python",
   "name": "python3"
  },
  "language_info": {
   "codemirror_mode": {
    "name": "ipython",
    "version": 3
   },
   "file_extension": ".py",
   "mimetype": "text/x-python",
   "name": "python",
   "nbconvert_exporter": "python",
   "pygments_lexer": "ipython3",
   "version": "3.12.7"
  }
 },
 "nbformat": 4,
 "nbformat_minor": 2
}
